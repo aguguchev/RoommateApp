{
  "nbformat": 4,
  "nbformat_minor": 0,
  "metadata": {
    "accelerator": "GPU",
    "colab": {
      "name": "proj4.ipynb",
      "provenance": [],
      "collapsed_sections": [],
      "include_colab_link": true
    },
    "interpreter": {
      "hash": "73d0898b04f1ff3e018fe5f0e1ac03d2b10b10f243e2e5a75fd86fc0b9ff9868"
    },
    "kernelspec": {
      "display_name": "Python 3",
      "language": "python",
      "name": "python3"
    },
    "language_info": {
      "codemirror_mode": {
        "name": "ipython",
        "version": 3
      },
      "file_extension": ".py",
      "mimetype": "text/x-python",
      "name": "python",
      "nbconvert_exporter": "python",
      "pygments_lexer": "ipython3",
      "version": "3.8.5"
    }
  },
  "cells": [
    {
      "cell_type": "markdown",
      "metadata": {
        "id": "view-in-github",
        "colab_type": "text"
      },
      "source": [
        "<a href=\"https://colab.research.google.com/github/aguguchev/RoommateApp/blob/master/proj4.ipynb\" target=\"_parent\"><img src=\"https://colab.research.google.com/assets/colab-badge.svg\" alt=\"Open In Colab\"/></a>"
      ]
    },
    {
      "cell_type": "markdown",
      "metadata": {
        "id": "fiK4QNWKDvWJ"
      },
      "source": [
        "# [Scene Recognition with Deep Learning](https://www.cc.gatech.edu/~hays/compvision/proj4/)\n",
        "For this project we are going to focus on scene classification for 15 scene types with a state-of-the-art approach: deep learning. The task is also known as image classification. \n",
        "\n",
        "Basic learning objectives of this project:\n",
        "1. Construct the fundamental pipeline for performing deep learning using PyTorch;\n",
        "2. Understand the concepts behind different layers, optimizers, and learning schedules;\n",
        "3. Experiment with different models and observe the performance.\n",
        "\n",
        "The starter code is mostly initialized to 'placeholder' just so that the starter\n",
        "code does not crash when run unmodified and you can get a preview of how\n",
        "results are presented."
      ]
    },
    {
      "cell_type": "code",
      "metadata": {
        "id": "wbtuSRZAhb9a"
      },
      "source": [
        "# flag to modify everything to run better on Colab; change it to true if you want to run on colab\n",
        "use_colab = True"
      ],
      "execution_count": null,
      "outputs": []
    },
    {
      "cell_type": "markdown",
      "metadata": {
        "id": "Uto3xotovm5_"
      },
      "source": [
        "## Part 0: Setup for Colab\n",
        "You can skip this part if you are not running your notebook on Colab."
      ]
    },
    {
      "cell_type": "markdown",
      "metadata": {
        "id": "dMShUvcNvukQ"
      },
      "source": [
        "### Download Data\n",
        "\n",
        "Download the data for training the network. It's exactly the same as that's been provided for you, but we'll fetch this from the cloud to keep uploads small"
      ]
    },
    {
      "cell_type": "code",
      "metadata": {
        "id": "tG_t11Chv9pq",
        "colab": {
          "base_uri": "https://localhost:8080/"
        },
        "outputId": "9805e91e-1e26-411e-c4f5-baf4d9f1a53d"
      },
      "source": [
        "# uncomment for running on colab\n",
        "!wget \"https://cc.gatech.edu/~hays/compvision/projects/proj4_data.zip\" -O data.zip && unzip -qq data.zip\n",
        "!rm ./data.zip"
      ],
      "execution_count": null,
      "outputs": [
        {
          "output_type": "stream",
          "name": "stdout",
          "text": [
            "--2021-11-04 19:15:24--  https://cc.gatech.edu/~hays/compvision/projects/proj4_data.zip\n",
            "Resolving cc.gatech.edu (cc.gatech.edu)... 130.207.7.69\n",
            "Connecting to cc.gatech.edu (cc.gatech.edu)|130.207.7.69|:443... connected.\n",
            "HTTP request sent, awaiting response... 302 Found\n",
            "Location: https://www.cc.gatech.edu/~hays/compvision/projects/proj4_data.zip [following]\n",
            "--2021-11-04 19:15:25--  https://www.cc.gatech.edu/~hays/compvision/projects/proj4_data.zip\n",
            "Resolving www.cc.gatech.edu (www.cc.gatech.edu)... 130.207.7.69\n",
            "Connecting to www.cc.gatech.edu (www.cc.gatech.edu)|130.207.7.69|:443... connected.\n",
            "HTTP request sent, awaiting response... 200 OK\n",
            "Length: 86460586 (82M) [application/zip]\n",
            "Saving to: ‘data.zip’\n",
            "\n",
            "data.zip            100%[===================>]  82.46M  17.0MB/s    in 6.1s    \n",
            "\n",
            "2021-11-04 19:15:32 (13.5 MB/s) - ‘data.zip’ saved [86460586/86460586]\n",
            "\n",
            "replace data/train/tallbuilding/image_0169.jpg? [y]es, [n]o, [A]ll, [N]one, [r]ename: A\n"
          ]
        }
      ]
    },
    {
      "cell_type": "markdown",
      "metadata": {
        "id": "NQ9Qm5hnxKNn"
      },
      "source": [
        "### Upload code and unit tests\n",
        "\n",
        "Once you have finished your code, run `python ./zip_for_colab.py` and all the required files and tests will be written to `cv_proj4.zip`.\n",
        "\n",
        "Click the folder icon on the left of the colab UI, and click on the upload button right below the \"Files\" heading. You should have done a similar process for Project 4.\n",
        "\n",
        "Run the cell below once your upload completes to extract your uploaded files."
      ]
    },
    {
      "cell_type": "code",
      "metadata": {
        "id": "ZpoinJA1yCQy",
        "colab": {
          "base_uri": "https://localhost:8080/"
        },
        "outputId": "e37f9cbc-d4da-445d-b095-a0031dd0d300"
      },
      "source": [
        "# uncomment for running on colab\n",
        "!unzip -qq cv_proj4.zip -d ./\n",
        "!mv -v ./src/vision ./\n",
        "!pip install -e ."
      ],
      "execution_count": null,
      "outputs": [
        {
          "output_type": "stream",
          "name": "stdout",
          "text": [
            "replace ./pyproject.toml? [y]es, [n]o, [A]ll, [N]one, [r]ename: mv: cannot move './src/vision' to './vision': Directory not empty\n",
            "Obtaining file:///content\n",
            "  Installing build dependencies ... \u001b[?25l\u001b[?25hdone\n",
            "  Getting requirements to build wheel ... \u001b[?25l\u001b[?25hdone\n",
            "    Preparing wheel metadata ... \u001b[?25l\u001b[?25hdone\n",
            "Installing collected packages: vision\n",
            "  Attempting uninstall: vision\n",
            "    Found existing installation: vision 0.1\n",
            "    Can't uninstall 'vision'. No files were found to uninstall.\n",
            "  Running setup.py develop for vision\n",
            "Successfully installed vision-0.1\n"
          ]
        }
      ]
    },
    {
      "cell_type": "markdown",
      "metadata": {
        "id": "a6O_juWwyI3X"
      },
      "source": [
        "### Preparation\n",
        "\n",
        "We'll import the required functions and set up GPU computation.\n",
        "\n",
        "Click on Runtime $\\rightarrow$ Change Runtime Type, and select \"GPU\" under hardware accelerator."
      ]
    },
    {
      "cell_type": "code",
      "metadata": {
        "id": "g1dqr6qSBpE2"
      },
      "source": [
        "import os\n",
        "\n",
        "import torch\n",
        "\n",
        "from vision.runner import Trainer\n",
        "from vision.optimizer import get_optimizer\n",
        "from vision.simple_net import SimpleNet\n",
        "from vision.simple_net_final import SimpleNetFinal\n",
        "from vision.my_resnet import MyResNet18\n",
        "from vision.data_transforms import (\n",
        "    get_fundamental_transforms,\n",
        "    get_fundamental_normalization_transforms,\n",
        "    get_fundamental_augmentation_transforms,\n",
        "    get_all_transforms,\n",
        ")\n",
        "from vision.stats_helper import compute_mean_and_std\n",
        "from vision.confusion_matrix import (\n",
        "    generate_confusion_data,\n",
        "    generate_confusion_matrix,\n",
        "    plot_confusion_matrix,\n",
        "    get_pred_images_for_target,\n",
        "    generate_and_plot_confusion_matrix,\n",
        ")\n",
        "from vision.dl_utils import save_trained_model_weights\n",
        "\n",
        "%load_ext autoreload\n",
        "%autoreload 2"
      ],
      "execution_count": null,
      "outputs": []
    },
    {
      "cell_type": "code",
      "metadata": {
        "id": "JKX1cUvTvgjL"
      },
      "source": [
        "from tests.utils import verify\n",
        "from tests.test_stats_helper import test_mean_and_variance\n",
        "from tests.test_image_loader import (\n",
        "    test_dataset_length,\n",
        "    test_unique_vals,\n",
        "    test_class_values,\n",
        "    test_load_img_from_path,\n",
        ")\n",
        "from tests.test_data_transforms import (\n",
        "    test_fundamental_transforms,\n",
        "    test_data_augmentation_transforms,\n",
        "    test_data_augmentation_with_normalization_transforms,\n",
        ")\n",
        "from tests.test_dl_utils import test_compute_accuracy, test_compute_loss\n",
        "from tests.test_simple_net import test_simple_net\n",
        "from tests.test_simple_net_final import test_simple_net_final\n",
        "from tests.test_my_resnet import test_my_resnet\n",
        "from tests.test_confusion_matrix import (\n",
        "    test_generate_confusion_matrix,\n",
        "    test_generate_confusion_matrix_normalized,\n",
        ")"
      ],
      "execution_count": null,
      "outputs": []
    },
    {
      "cell_type": "code",
      "metadata": {
        "id": "GjE0jIc5BpFN"
      },
      "source": [
        "is_cuda = True\n",
        "is_cuda = (\n",
        "    is_cuda and torch.cuda.is_available()\n",
        ")  # will turn off cuda if the machine doesnt have a GPU"
      ],
      "execution_count": null,
      "outputs": []
    },
    {
      "cell_type": "code",
      "metadata": {
        "id": "zSUp5MMshb9m"
      },
      "source": [
        "data_path = \"./data/\" if not use_colab else \"./data/\"\n",
        "model_path = \"../model_checkpoints/\" if not use_colab else \"./model_checkpoints/\""
      ],
      "execution_count": null,
      "outputs": []
    },
    {
      "cell_type": "markdown",
      "metadata": {
        "id": "aGSv2QfBBpFZ"
      },
      "source": [
        "## Part 1: SimpleNet\n",
        "To train a network in PyTorch, we need 4 components:\n",
        "1. **Dataset** - an object which can load the data and labels given an index.\n",
        "2. **Model** - an object that contains the network architecture definition.\n",
        "3. **Loss function** - a function that measures how far the network output is from the ground truth label.\n",
        "4. **Optimizer** - an object that optimizes the network parameters to reduce the loss value.\n",
        "\n",
        "### Part 1.1: Datasets\n",
        "Now let's create the **Datasets** object to be used later. Remember back in Project 1, we have initialized such a class to load 5 images? Here the task is similar: we have to load each image as well as it's classification label. The key idea is to store the paths to all the images in your dataset, and then be able to provide the image file path and its ground truth class id when given the index of a data example.\n",
        "\n",
        "We will map the scene names (text) into indices 0 to 14 in the image loader. You can choose any mapping you want but once fixed, it has to be consistent throughout this notebook.\n",
        "\n",
        "**TODO 1:** complete the `image_loader.py`"
      ]
    },
    {
      "cell_type": "code",
      "metadata": {
        "id": "THRvAvluXFcS",
        "colab": {
          "base_uri": "https://localhost:8080/"
        },
        "outputId": "ba4352cc-56ee-4b59-c4e6-8c2bca3aa9a9"
      },
      "source": [
        "inp_size = (64, 64)\n",
        "print(\"Testing your image loader (length):\", verify(test_dataset_length))\n",
        "print(\"Testing your image loader (values):\", verify(test_unique_vals))\n",
        "print(\"Testing your image loader (classes):\", verify(test_class_values))\n",
        "print(\"Testing your image loader (paths):\", verify(test_load_img_from_path))"
      ],
      "execution_count": null,
      "outputs": [
        {
          "output_type": "stream",
          "name": "stdout",
          "text": [
            "Testing your image loader (length): \u001b[32m\"Correct\"\u001b[0m\n",
            "Testing your image loader (values): \u001b[32m\"Correct\"\u001b[0m\n",
            "Testing your image loader (classes): \u001b[32m\"Correct\"\u001b[0m\n",
            "Testing your image loader (paths): \u001b[32m\"Correct\"\u001b[0m\n"
          ]
        }
      ]
    },
    {
      "cell_type": "markdown",
      "metadata": {
        "id": "K3TJtEB2vgjQ"
      },
      "source": [
        "### Data transforms\n",
        "**TODO 2:** complete the function `get_fundamental_transforms()` in `data_transforms.py` to compile the following fundamental transforms:\n",
        "1. Resize the input image to the desired shape;\n",
        "2. Convert it to a tensor."
      ]
    },
    {
      "cell_type": "code",
      "metadata": {
        "id": "xqpCmJoxvgjQ",
        "colab": {
          "base_uri": "https://localhost:8080/"
        },
        "outputId": "b7c1957d-42ce-4cc9-ddca-3ed13725e381"
      },
      "source": [
        "print(\"Testing your fundamental data transforms: \", verify(test_fundamental_transforms))"
      ],
      "execution_count": null,
      "outputs": [
        {
          "output_type": "stream",
          "name": "stdout",
          "text": [
            "Testing your fundamental data transforms:  \u001b[32m\"Correct\"\u001b[0m\n"
          ]
        }
      ]
    },
    {
      "cell_type": "markdown",
      "metadata": {
        "id": "KnvQDyMfvgjR"
      },
      "source": [
        "### Part 1.2: Model\n",
        "The data is ready! Now we are preparing to move to the actual core of deep learning: the architecture. To get you started in this part, simply define a **2-layer** model in the `simple_net.py`. Here by \"2 layers\" we mean **2 convolutional layers**, so you need to figure out the supporting utilities like ReLU, Max Pooling, and Fully Connected layers, and configure them with proper parameters to make the tensor flow.\n",
        "\n",
        "You may refer to Figure 2 in proj4 handout for a sample network architecture (it's the architecture TAs used in their implementation and is sufficient to get you pass Part 1).\n",
        "\n",
        "**TODO 3**: Do the following in ```simple_net.py```:\n",
        "- ```self.conv_layers```\n",
        "- ```self.fc_layers```\n",
        "- ```forward()```\n",
        "\n",
        "Leave the ```self.loss_criterion = None``` for now."
      ]
    },
    {
      "cell_type": "code",
      "metadata": {
        "id": "jvVL-ap0BpFx",
        "colab": {
          "base_uri": "https://localhost:8080/"
        },
        "outputId": "1de537aa-f16e-496d-c8fe-86a52e31ed9b"
      },
      "source": [
        "print(\"Testing your SimpleNet architecture: \", verify(test_simple_net))"
      ],
      "execution_count": null,
      "outputs": [
        {
          "output_type": "stream",
          "name": "stdout",
          "text": [
            "Testing your SimpleNet architecture:  \u001b[32m\"Correct\"\u001b[0m\n"
          ]
        }
      ]
    },
    {
      "cell_type": "code",
      "metadata": {
        "id": "1OTCOQNFvgjS"
      },
      "source": [
        "simple_model = SimpleNet()"
      ],
      "execution_count": null,
      "outputs": []
    },
    {
      "cell_type": "markdown",
      "metadata": {
        "id": "MkbHMcEYvgjS"
      },
      "source": [
        "### Loss function\n",
        "When defining your model architecture, also initialize the `loss_criterion` variable there. Remeber this is multi-class classification problem, and choose the [appropriate loss function](https://pytorch.org/docs/stable/nn.html#loss-functions) might be useful here.\n",
        "\n",
        "**TODO 4:** Assign a loss function to ```self.loss_criterion``` in ```simple_net.py```."
      ]
    },
    {
      "cell_type": "code",
      "metadata": {
        "id": "JeBFNW0mvgjS",
        "colab": {
          "base_uri": "https://localhost:8080/"
        },
        "outputId": "6fd657fb-b783-4b44-df30-032e3e6312d8"
      },
      "source": [
        "print(simple_model)"
      ],
      "execution_count": null,
      "outputs": [
        {
          "output_type": "stream",
          "name": "stdout",
          "text": [
            "SimpleNet(\n",
            "  (conv_layers): Sequential(\n",
            "    (0): Conv2d(1, 10, kernel_size=(5, 5), stride=(1, 1))\n",
            "    (1): ReLU()\n",
            "    (2): MaxPool2d(kernel_size=3, stride=3, padding=0, dilation=1, ceil_mode=False)\n",
            "    (3): Conv2d(10, 20, kernel_size=(5, 5), stride=(1, 1))\n",
            "    (4): ReLU()\n",
            "    (5): MaxPool2d(kernel_size=3, stride=3, padding=0, dilation=1, ceil_mode=False)\n",
            "  )\n",
            "  (fc_layers): Sequential(\n",
            "    (0): Linear(in_features=500, out_features=100, bias=True)\n",
            "    (1): Linear(in_features=100, out_features=15, bias=True)\n",
            "  )\n",
            "  (loss_criterion): CrossEntropyLoss()\n",
            ")\n"
          ]
        }
      ]
    },
    {
      "cell_type": "markdown",
      "metadata": {
        "id": "wwEAGDYrvgjU"
      },
      "source": [
        "### Optimizer\n",
        "**TODO 5:** **initialize the following cell with proper values for learning rate and weight decay** (you will need to come back and tune these values for better performance once the trainer section is done)"
      ]
    },
    {
      "cell_type": "code",
      "metadata": {
        "id": "V2cwtK5PBpF7"
      },
      "source": [
        "# TODO: add a decent initial setting and tune from there. The values are intentionally bad.\n",
        "optimizer_config = {\"optimizer_type\": \"adam\", \"lr\": 3e-3, \"weight_decay\": 1e-15}"
      ],
      "execution_count": null,
      "outputs": []
    },
    {
      "cell_type": "markdown",
      "metadata": {
        "id": "UkC1MXKZhb9w"
      },
      "source": [
        "**TODO 6:** complete the ```get_optimizer()``` function in ```optimizer.py```. The helper function accepts three basic configurations as defined below. Any other configuration is optional. *SGD* optimizer type should be supported, anything else is optional."
      ]
    },
    {
      "cell_type": "code",
      "metadata": {
        "id": "P0CrYZa4BpGE"
      },
      "source": [
        "optimizer = get_optimizer(simple_model, optimizer_config)"
      ],
      "execution_count": null,
      "outputs": []
    },
    {
      "cell_type": "markdown",
      "metadata": {
        "id": "FffW3ZPhvgjU"
      },
      "source": [
        "### Part 1.3: Trainer"
      ]
    },
    {
      "cell_type": "markdown",
      "metadata": {
        "id": "nBu49n5ghb9x"
      },
      "source": [
        "**TODO 7:** Next we define the trainer for the model; to start, we will need to do the following in ```dl_utils.py```:\n",
        "- ```compute_loss()```: use the model's loss criterion and compute the corresponding loss between the model output and the ground-truth labels.\n",
        "- ```compute_accuracy()```: compute the classification accuracy given the prediction logits and the ground-truth labels."
      ]
    },
    {
      "cell_type": "code",
      "metadata": {
        "id": "b7vcKhQohb9y",
        "colab": {
          "base_uri": "https://localhost:8080/"
        },
        "outputId": "aff2d785-ac7d-43e6-9836-0d28e7943def"
      },
      "source": [
        "print(\"Testing your trainer (loss values): \", verify(test_compute_loss))\n",
        "print(\"Testing your trainer (accuracy computation): \", verify(test_compute_accuracy))"
      ],
      "execution_count": null,
      "outputs": [
        {
          "output_type": "stream",
          "name": "stdout",
          "text": [
            "Testing your trainer (loss values):  \u001b[32m\"Correct\"\u001b[0m\n",
            "Testing your trainer (accuracy computation):  \u001b[32m\"Correct\"\u001b[0m\n"
          ]
        }
      ]
    },
    {
      "cell_type": "markdown",
      "metadata": {
        "id": "fk060N9wvgjU"
      },
      "source": [
        "Then pass in the model, optimizer, transforms for both the training and testing datasets into the trainer, and proceed to the next cell to train it. If you have implemented everything correctly, you should be seeing a decreasing loss value.\n",
        "\n",
        "**Note** in this project, we will be using the test set as the validation set (i.e. using it to guide our decisions about models and hyperparameters while training. In actual practise, you would not interact with the test set until reporting the final results.\n",
        "\n",
        "**Note** that your CPU should be sufficient to handle the training process for all networks in this project, and the following training cells will take less than 5 minutes; you may also want to decrease the value for `num_epochs` and quickly experiment with your parameters. The default value of **30** is good enough to get you around the threshold for Part 1, and you are free to increase it a bit and adjust other parameters in this part."
      ]
    },
    {
      "cell_type": "code",
      "metadata": {
        "id": "UiGOvPJfBpGO"
      },
      "source": [
        "# re-init the model so that the weights are all random\n",
        "simple_model_base = SimpleNet()\n",
        "optimizer = get_optimizer(simple_model_base, optimizer_config)\n",
        "\n",
        "trainer = Trainer(\n",
        "    data_dir=data_path,\n",
        "    model=simple_model_base,\n",
        "    optimizer=optimizer,\n",
        "    model_dir=os.path.join(model_path, \"simple_net\"),\n",
        "    train_data_transforms=get_fundamental_transforms(inp_size),\n",
        "    val_data_transforms=get_fundamental_transforms(inp_size),\n",
        "    batch_size=32,\n",
        "    load_from_disk=False,\n",
        "    cuda=is_cuda,\n",
        ")"
      ],
      "execution_count": null,
      "outputs": []
    },
    {
      "cell_type": "code",
      "metadata": {
        "id": "paNLyU5cBpGX",
        "colab": {
          "base_uri": "https://localhost:8080/"
        },
        "outputId": "2c796bbb-b967-477f-a64d-10690796b2a5"
      },
      "source": [
        "%%time\n",
        "trainer.run_training_loop(num_epochs=30)"
      ],
      "execution_count": null,
      "outputs": [
        {
          "output_type": "stream",
          "name": "stdout",
          "text": [
            "Epoch:1 Train Loss:0.0781 Val Loss: 0.0750 Train Accuracy: 0.1712 Validation Accuracy: 0.1987\n",
            "Epoch:2 Train Loss:0.0655 Val Loss: 0.0646 Train Accuracy: 0.3012 Validation Accuracy: 0.2933\n",
            "Epoch:3 Train Loss:0.0633 Val Loss: 0.0612 Train Accuracy: 0.3340 Validation Accuracy: 0.3320\n",
            "Epoch:4 Train Loss:0.0586 Val Loss: 0.0630 Train Accuracy: 0.3782 Validation Accuracy: 0.3253\n",
            "Epoch:5 Train Loss:0.0569 Val Loss: 0.0575 Train Accuracy: 0.3970 Validation Accuracy: 0.3753\n",
            "Epoch:6 Train Loss:0.0493 Val Loss: 0.0628 Train Accuracy: 0.4807 Validation Accuracy: 0.3400\n",
            "Epoch:7 Train Loss:0.0482 Val Loss: 0.0542 Train Accuracy: 0.4841 Validation Accuracy: 0.4120\n",
            "Epoch:8 Train Loss:0.0436 Val Loss: 0.0500 Train Accuracy: 0.5384 Validation Accuracy: 0.4647\n",
            "Epoch:9 Train Loss:0.0416 Val Loss: 0.0496 Train Accuracy: 0.5464 Validation Accuracy: 0.4747\n",
            "Epoch:10 Train Loss:0.0384 Val Loss: 0.0789 Train Accuracy: 0.5816 Validation Accuracy: 0.3227\n",
            "Epoch:11 Train Loss:0.0402 Val Loss: 0.0479 Train Accuracy: 0.5611 Validation Accuracy: 0.5033\n",
            "Epoch:12 Train Loss:0.0348 Val Loss: 0.0510 Train Accuracy: 0.6248 Validation Accuracy: 0.4893\n",
            "Epoch:13 Train Loss:0.0346 Val Loss: 0.0616 Train Accuracy: 0.6345 Validation Accuracy: 0.4280\n",
            "Epoch:14 Train Loss:0.0361 Val Loss: 0.0507 Train Accuracy: 0.6040 Validation Accuracy: 0.5027\n",
            "Epoch:15 Train Loss:0.0295 Val Loss: 0.0551 Train Accuracy: 0.6787 Validation Accuracy: 0.4900\n",
            "Epoch:16 Train Loss:0.0324 Val Loss: 0.0556 Train Accuracy: 0.6425 Validation Accuracy: 0.4667\n",
            "Epoch:17 Train Loss:0.0285 Val Loss: 0.0501 Train Accuracy: 0.6821 Validation Accuracy: 0.5207\n",
            "Epoch:18 Train Loss:0.0268 Val Loss: 0.0504 Train Accuracy: 0.6992 Validation Accuracy: 0.5240\n",
            "Epoch:19 Train Loss:0.0242 Val Loss: 0.0561 Train Accuracy: 0.7333 Validation Accuracy: 0.4973\n",
            "Epoch:20 Train Loss:0.0238 Val Loss: 0.0537 Train Accuracy: 0.7357 Validation Accuracy: 0.5047\n",
            "Epoch:21 Train Loss:0.0240 Val Loss: 0.0941 Train Accuracy: 0.7397 Validation Accuracy: 0.3733\n",
            "Epoch:22 Train Loss:0.0419 Val Loss: 0.0563 Train Accuracy: 0.5856 Validation Accuracy: 0.4687\n",
            "Epoch:23 Train Loss:0.0240 Val Loss: 0.0605 Train Accuracy: 0.7323 Validation Accuracy: 0.4720\n",
            "Epoch:24 Train Loss:0.0259 Val Loss: 0.0599 Train Accuracy: 0.7186 Validation Accuracy: 0.5000\n",
            "Epoch:25 Train Loss:0.0210 Val Loss: 0.0612 Train Accuracy: 0.7709 Validation Accuracy: 0.5020\n",
            "Epoch:26 Train Loss:0.0172 Val Loss: 0.0639 Train Accuracy: 0.8141 Validation Accuracy: 0.5187\n",
            "Epoch:27 Train Loss:0.0165 Val Loss: 0.0683 Train Accuracy: 0.8224 Validation Accuracy: 0.4920\n",
            "Epoch:28 Train Loss:0.0195 Val Loss: 0.0719 Train Accuracy: 0.7889 Validation Accuracy: 0.4807\n",
            "Epoch:29 Train Loss:0.0187 Val Loss: 0.0720 Train Accuracy: 0.7846 Validation Accuracy: 0.5060\n",
            "Epoch:30 Train Loss:0.0138 Val Loss: 0.0751 Train Accuracy: 0.8533 Validation Accuracy: 0.4907\n",
            "CPU times: user 45.1 s, sys: 4.85 s, total: 50 s\n",
            "Wall time: 2min 52s\n"
          ]
        }
      ]
    },
    {
      "cell_type": "markdown",
      "metadata": {
        "id": "tDNaA9ekvgjV"
      },
      "source": [
        "After you have finished the training process, now plot out the loss and accuracy history. You can also check out the final accuracy for both training and testing data. Copy the accuracy plots and values onto the report, and answer the questions there. "
      ]
    },
    {
      "cell_type": "code",
      "metadata": {
        "id": "z0b_WwJhBpGf",
        "colab": {
          "base_uri": "https://localhost:8080/",
          "height": 573
        },
        "outputId": "f5ef689c-6b8d-4492-edcd-55fa7b4cddfd"
      },
      "source": [
        "trainer.plot_loss_history()\n",
        "trainer.plot_accuracy()"
      ],
      "execution_count": null,
      "outputs": [
        {
          "output_type": "display_data",
          "data": {
            "image/png": "[encoded data removed]",
            "text/plain": [
              "<Figure size 432x288 with 1 Axes>"
            ]
          },
          "metadata": {
            "needs_background": "light"
          }
        },
        {
          "output_type": "display_data",
          "data": {
            "image/png": "[encoded data removed]",
            "text/plain": [
              "<Figure size 432x288 with 1 Axes>"
            ]
          },
          "metadata": {
            "needs_background": "light"
          }
        }
      ]
    },
    {
      "cell_type": "code",
      "metadata": {
        "id": "8epn0IBmBpGn",
        "scrolled": true,
        "colab": {
          "base_uri": "https://localhost:8080/"
        },
        "outputId": "41902c5b-fb15-4c98-b0ae-35b047f221c6"
      },
      "source": [
        "train_accuracy = trainer.train_accuracy_history[-1]\n",
        "validation_accuracy = trainer.validation_accuracy_history[-1]\n",
        "print(\n",
        "    \"Train Accuracy = {}; Validation Accuracy = {}\".format(\n",
        "        train_accuracy, validation_accuracy\n",
        "    )\n",
        ")"
      ],
      "execution_count": null,
      "outputs": [
        {
          "output_type": "stream",
          "name": "stdout",
          "text": [
            "Train Accuracy = 0.8532663316582915; Validation Accuracy = 0.49066666666666664\n"
          ]
        }
      ]
    },
    {
      "cell_type": "markdown",
      "metadata": {
        "id": "EfGo97oqhb92"
      },
      "source": [
        "**TODO 8:** Obtain **45%** validation accuracy to receive full credit for Part 1. You can go back to TODO 5 to tune your parameters using the following tips:\n",
        "1. If the loss decreases very slowly, try increasing the value of the lr (learning rate).\n",
        "2. Initially keep the value of weight decay (L2-regularization) very low.\n",
        "3. Try to first adjust lr in multiples of 3 initially. When you are close to reasonable performance, do a more granular adjustment.\n",
        "4. If you want to increase the validation accuracy by a little bit, try increasing the weight_decay to prevent overfitting. Do not use tricks from Section 6 just yet."
      ]
    },
    {
      "cell_type": "markdown",
      "metadata": {
        "id": "d3Ec7hcZhb92"
      },
      "source": [
        "### Save the model for your SimpleNet\n",
        "Once you are satisfied with the performance of your trained model, you need to save it so that you can upload it to Gradescope along with the other models.\n",
        "\n",
        "We'll save the model to the current directory. If you're running locally on your computer, this should be in the `vision` folder, which is the desired location for uploading to gradescope.\n",
        "\n",
        "If you are running on Colab, make sure you download the trained `.pt` files that will be generated. This process is similar to that of Project 4.\n",
        "- Click on the folder icon in the left hand side menu\n",
        "- Select the 3 dots next to the `<out_name>.pt` file that is generated and click download\n",
        "- Store the file in the `vision` folder."
      ]
    },
    {
      "cell_type": "code",
      "metadata": {
        "id": "AUjbBOiDhb94"
      },
      "source": [
        "save_trained_model_weights(simple_model_base, out_dir=\"./\")"
      ],
      "execution_count": null,
      "outputs": []
    },
    {
      "cell_type": "markdown",
      "metadata": {
        "id": "f9fcNntXhb94"
      },
      "source": [
        "## Part 2: SimpleNet with additional modifications\n",
        "\n",
        "In Part 1 we implemented a basic CNN, but it doesn’t perform very well.  Let’s try a few tricks to see if we canimprove our model performance. You can start by copying your `SimpleNet` architecture from `simple_net.py` into `SimpleNetFinal` class in `simple_net_final.py`."
      ]
    },
    {
      "cell_type": "markdown",
      "metadata": {
        "id": "lpI4Xda_hb-I"
      },
      "source": [
        "### Part 2.1: Problem 1 We don’t have enough training data. Let’s “jitter.”"
      ]
    },
    {
      "cell_type": "markdown",
      "metadata": {
        "id": "6SqKl7l1hb-J"
      },
      "source": [
        "We are going to increase our amount of training data by left-right mirroring and color jittering the training images during the learning process.\n",
        "\n",
        "**TODO 9:** complete the `get_fundamental_augmentation_transforms()` function in `data_transforms.py`: first copy your existing fundamental transform implementation into this function, and then insert a couple of other transforms which help you do the above adjustment.                 \n",
        "\n",
        "Useful functions:`transforms.RandomHorizontalFlip`, `transforms.ColorJitter`"
      ]
    },
    {
      "cell_type": "code",
      "metadata": {
        "id": "JW9BDcJ0hb-J",
        "colab": {
          "base_uri": "https://localhost:8080/"
        },
        "outputId": "46b00d54-643f-4fb4-c2b2-28a676a0d7ad"
      },
      "source": [
        "print(\n",
        "    \"Testing your data transforms with data augmentation: \",\n",
        "    verify(test_data_augmentation_transforms),\n",
        ")"
      ],
      "execution_count": null,
      "outputs": [
        {
          "output_type": "stream",
          "name": "stdout",
          "text": [
            "Testing your data transforms with data augmentation:  \u001b[32m\"Correct\"\u001b[0m\n"
          ]
        }
      ]
    },
    {
      "cell_type": "markdown",
      "metadata": {
        "id": "6eznl7cPhb-K"
      },
      "source": [
        "### Part 2.2: Problem 2 The images aren’t zero-centered and variance-normalized."
      ]
    },
    {
      "cell_type": "markdown",
      "metadata": {
        "id": "IJ1Src4shb-K"
      },
      "source": [
        "We are going to \"zero-center\" and \"normalize\" the dataset so that each entry has zero mean and the overall standard deviation is 1. \n",
        "\n",
        "**TODO 10**:  fill in the `compute_mean_and_std()` in `stats_helper.py` to compute the **mean** and **standard deviation** of both training and validation data."
      ]
    },
    {
      "cell_type": "code",
      "metadata": {
        "id": "TjYWIY_Bhb-K",
        "colab": {
          "base_uri": "https://localhost:8080/"
        },
        "outputId": "2dcba3af-ae24-423b-a5a7-dbd82deac656"
      },
      "source": [
        "print(\"Testing your mean and std computation: \", verify(test_mean_and_variance))\n",
        "dataset_mean, dataset_std = compute_mean_and_std(data_path)"
      ],
      "execution_count": null,
      "outputs": [
        {
          "output_type": "stream",
          "name": "stdout",
          "text": [
            "Testing your mean and std computation:  \u001b[32m\"Correct\"\u001b[0m\n"
          ]
        }
      ]
    },
    {
      "cell_type": "code",
      "metadata": {
        "id": "6FRdPZaWhb-L",
        "colab": {
          "base_uri": "https://localhost:8080/"
        },
        "outputId": "545a5bf7-4dbf-4666-c8d6-482eba2fba4a"
      },
      "source": [
        "print(\"Dataset mean = {}, standard deviation = {}\".format(dataset_mean, dataset_std))"
      ],
      "execution_count": null,
      "outputs": [
        {
          "output_type": "stream",
          "name": "stdout",
          "text": [
            "Dataset mean = 0.45547487091757344, standard deviation = 0.25316327949173395\n"
          ]
        }
      ]
    },
    {
      "cell_type": "markdown",
      "metadata": {
        "id": "4ETCNQFzhb-L"
      },
      "source": [
        "**TODO 11**: complete the function `get_all_transforms()` function in `data_transforms.py` to normalize the input using the passed in mean andstandard deviation: you need to copy your implementation of `get_fundamental_augmentation_transforms()` into this function first.                 "
      ]
    },
    {
      "cell_type": "code",
      "metadata": {
        "id": "VysOVwXfhb-L",
        "scrolled": true,
        "colab": {
          "base_uri": "https://localhost:8080/"
        },
        "outputId": "fd8aeef6-fe3b-4e53-b97f-a3b81393de4a"
      },
      "source": [
        "print(\n",
        "    \"Testing your normalized data transforms: \",\n",
        "    verify(test_data_augmentation_with_normalization_transforms),\n",
        ")"
      ],
      "execution_count": null,
      "outputs": [
        {
          "output_type": "stream",
          "name": "stdout",
          "text": [
            "Testing your normalized data transforms:  \u001b[32m\"Correct\"\u001b[0m\n"
          ]
        }
      ]
    },
    {
      "cell_type": "code",
      "metadata": {
        "id": "gVLqAzmlhb-M"
      },
      "source": [
        "inp_size = (64, 64)"
      ],
      "execution_count": null,
      "outputs": []
    },
    {
      "cell_type": "markdown",
      "metadata": {
        "id": "WyUv4VRHhb-N"
      },
      "source": [
        "### Part 2.3-2.5: Problem 3 ~ 5: Modify the network."
      ]
    },
    {
      "cell_type": "markdown",
      "metadata": {
        "id": "4_zfgLhrhb-N"
      },
      "source": [
        "**TODO 12:** modify the layers in the `SimpleNet` class in `simple_net.py`:\n",
        "1. Add the dropout layer\n",
        "2. Add one or two more blocks of “conv/pool/relu”.\n",
        "3. Add a batch normalization layer after each convolutional layer (except for the last)"
      ]
    },
    {
      "cell_type": "code",
      "metadata": {
        "id": "_cLHBt3Jhb-O",
        "colab": {
          "base_uri": "https://localhost:8080/",
          "height": 306
        },
        "outputId": "236379ee-d061-40c2-fbce-c03df5b9262c"
      },
      "source": [
        "print(\"Testing your SimpleNetFinal architecture: \", verify(test_simple_net_final))"
      ],
      "execution_count": null,
      "outputs": [
        {
          "output_type": "error",
          "ename": "TypeError",
          "evalue": "ignored",
          "traceback": [
            "\u001b[0;31m---------------------------------------------------------------------------\u001b[0m",
            "\u001b[0;31mTypeError\u001b[0m                                 Traceback (most recent call last)",
            "\u001b[0;32m<ipython-input-31-26c732be5a46>\u001b[0m in \u001b[0;36m<module>\u001b[0;34m()\u001b[0m\n\u001b[0;32m----> 1\u001b[0;31m \u001b[0mprint\u001b[0m\u001b[0;34m(\u001b[0m\u001b[0;34m\"Testing your SimpleNetFinal architecture: \"\u001b[0m\u001b[0;34m,\u001b[0m \u001b[0mverify\u001b[0m\u001b[0;34m(\u001b[0m\u001b[0mtest_simple_net_final\u001b[0m\u001b[0;34m)\u001b[0m\u001b[0;34m)\u001b[0m\u001b[0;34m\u001b[0m\u001b[0;34m\u001b[0m\u001b[0m\n\u001b[0m",
            "\u001b[0;32m/content/tests/utils.py\u001b[0m in \u001b[0;36mverify\u001b[0;34m(function)\u001b[0m\n\u001b[1;32m      8\u001b[0m     \"\"\"\n\u001b[1;32m      9\u001b[0m     \u001b[0;32mtry\u001b[0m\u001b[0;34m:\u001b[0m\u001b[0;34m\u001b[0m\u001b[0;34m\u001b[0m\u001b[0m\n\u001b[0;32m---> 10\u001b[0;31m         \u001b[0mfunction\u001b[0m\u001b[0;34m(\u001b[0m\u001b[0;34m)\u001b[0m\u001b[0;34m\u001b[0m\u001b[0;34m\u001b[0m\u001b[0m\n\u001b[0m\u001b[1;32m     11\u001b[0m         \u001b[0;32mreturn\u001b[0m \u001b[0;34m'\\x1b[32m\"Correct\"\\x1b[0m'\u001b[0m\u001b[0;34m\u001b[0m\u001b[0;34m\u001b[0m\u001b[0m\n\u001b[1;32m     12\u001b[0m     \u001b[0;32mexcept\u001b[0m \u001b[0mAssertionError\u001b[0m\u001b[0;34m:\u001b[0m\u001b[0;34m\u001b[0m\u001b[0;34m\u001b[0m\u001b[0m\n",
            "\u001b[0;32m/content/tests/test_simple_net_final.py\u001b[0m in \u001b[0;36mtest_simple_net_final\u001b[0;34m()\u001b[0m\n\u001b[1;32m     10\u001b[0m     \u001b[0mTests\u001b[0m \u001b[0mthe\u001b[0m \u001b[0mSimpleNet\u001b[0m \u001b[0mnow\u001b[0m \u001b[0mcontains\u001b[0m \u001b[0mDropout\u001b[0m\u001b[0;34m,\u001b[0m \u001b[0mbatchnorm\u001b[0m\u001b[0;34m,\u001b[0m \u001b[0;32mand\u001b[0m \u001b[0mmore\u001b[0m \u001b[0mconv\u001b[0m \u001b[0mlayers\u001b[0m\u001b[0;34m\u001b[0m\u001b[0;34m\u001b[0m\u001b[0m\n\u001b[1;32m     11\u001b[0m     \"\"\"\n\u001b[0;32m---> 12\u001b[0;31m     \u001b[0mthis_simple_net\u001b[0m \u001b[0;34m=\u001b[0m \u001b[0mSimpleNetFinal\u001b[0m\u001b[0;34m(\u001b[0m\u001b[0;34m)\u001b[0m\u001b[0;34m\u001b[0m\u001b[0;34m\u001b[0m\u001b[0m\n\u001b[0m\u001b[1;32m     13\u001b[0m \u001b[0;34m\u001b[0m\u001b[0m\n\u001b[1;32m     14\u001b[0m     \u001b[0m_\u001b[0m\u001b[0;34m,\u001b[0m \u001b[0moutput_dim\u001b[0m\u001b[0;34m,\u001b[0m \u001b[0mcounter\u001b[0m\u001b[0;34m,\u001b[0m \u001b[0;34m*\u001b[0m\u001b[0m_\u001b[0m \u001b[0;34m=\u001b[0m \u001b[0mextract_model_layers\u001b[0m\u001b[0;34m(\u001b[0m\u001b[0mthis_simple_net\u001b[0m\u001b[0;34m)\u001b[0m\u001b[0;34m\u001b[0m\u001b[0;34m\u001b[0m\u001b[0m\n",
            "\u001b[0;32m/content/vision/simple_net_final.py\u001b[0m in \u001b[0;36m__init__\u001b[0;34m(self)\u001b[0m\n\u001b[1;32m     10\u001b[0m         \u001b[0mNote\u001b[0m\u001b[0;34m:\u001b[0m \u001b[0mUse\u001b[0m \u001b[0;34m'mean'\u001b[0m \u001b[0mreduction\u001b[0m \u001b[0;32min\u001b[0m \u001b[0mthe\u001b[0m \u001b[0mloss_criterion\u001b[0m\u001b[0;34m.\u001b[0m \u001b[0mRead\u001b[0m \u001b[0mPytorch\u001b[0m \u001b[0mdocumention\u001b[0m \u001b[0mto\u001b[0m \u001b[0munderstand\u001b[0m \u001b[0mwhat\u001b[0m \u001b[0mit\u001b[0m \u001b[0mmeans\u001b[0m\u001b[0;34m\u001b[0m\u001b[0;34m\u001b[0m\u001b[0m\n\u001b[1;32m     11\u001b[0m         \"\"\"\n\u001b[0;32m---> 12\u001b[0;31m         \u001b[0msuper\u001b[0m\u001b[0;34m(\u001b[0m\u001b[0mSimpleNetFinal\u001b[0m\u001b[0;34m,\u001b[0m \u001b[0mself\u001b[0m\u001b[0;34m)\u001b[0m\u001b[0;34m.\u001b[0m\u001b[0m__init__\u001b[0m\u001b[0;34m(\u001b[0m\u001b[0;34m)\u001b[0m\u001b[0;34m\u001b[0m\u001b[0;34m\u001b[0m\u001b[0m\n\u001b[0m\u001b[1;32m     13\u001b[0m \u001b[0;34m\u001b[0m\u001b[0m\n\u001b[1;32m     14\u001b[0m         \u001b[0mself\u001b[0m\u001b[0;34m.\u001b[0m\u001b[0mconv_layers\u001b[0m \u001b[0;34m=\u001b[0m \u001b[0mnn\u001b[0m\u001b[0;34m.\u001b[0m\u001b[0mSequential\u001b[0m\u001b[0;34m(\u001b[0m\u001b[0;34m)\u001b[0m\u001b[0;34m\u001b[0m\u001b[0;34m\u001b[0m\u001b[0m\n",
            "\u001b[0;31mTypeError\u001b[0m: super(type, obj): obj must be an instance or subtype of type"
          ]
        }
      ]
    },
    {
      "cell_type": "code",
      "metadata": {
        "id": "-sRvxPmjhb-P",
        "colab": {
          "base_uri": "https://localhost:8080/",
          "height": 299
        },
        "outputId": "e6b360a5-b3d5-445b-8cd4-751d8583bc69"
      },
      "source": [
        "simple_model_final = SimpleNetFinal()\n",
        "print(simple_model_final)"
      ],
      "execution_count": null,
      "outputs": [
        {
          "output_type": "error",
          "ename": "TypeError",
          "evalue": "ignored",
          "traceback": [
            "\u001b[0;31m---------------------------------------------------------------------------\u001b[0m",
            "\u001b[0;31mTypeError\u001b[0m                                 Traceback (most recent call last)",
            "\u001b[0;32m<ipython-input-32-fb1233d72300>\u001b[0m in \u001b[0;36m<module>\u001b[0;34m()\u001b[0m\n\u001b[0;32m----> 1\u001b[0;31m \u001b[0msimple_model_final\u001b[0m \u001b[0;34m=\u001b[0m \u001b[0mSimpleNetFinal\u001b[0m\u001b[0;34m(\u001b[0m\u001b[0;34m)\u001b[0m\u001b[0;34m\u001b[0m\u001b[0;34m\u001b[0m\u001b[0m\n\u001b[0m\u001b[1;32m      2\u001b[0m \u001b[0mprint\u001b[0m\u001b[0;34m(\u001b[0m\u001b[0msimple_model_final\u001b[0m\u001b[0;34m)\u001b[0m\u001b[0;34m\u001b[0m\u001b[0;34m\u001b[0m\u001b[0m\n",
            "\u001b[0;32m/content/vision/simple_net_final.py\u001b[0m in \u001b[0;36m__init__\u001b[0;34m(self)\u001b[0m\n\u001b[1;32m     10\u001b[0m         \u001b[0mNote\u001b[0m\u001b[0;34m:\u001b[0m \u001b[0mUse\u001b[0m \u001b[0;34m'mean'\u001b[0m \u001b[0mreduction\u001b[0m \u001b[0;32min\u001b[0m \u001b[0mthe\u001b[0m \u001b[0mloss_criterion\u001b[0m\u001b[0;34m.\u001b[0m \u001b[0mRead\u001b[0m \u001b[0mPytorch\u001b[0m \u001b[0mdocumention\u001b[0m \u001b[0mto\u001b[0m \u001b[0munderstand\u001b[0m \u001b[0mwhat\u001b[0m \u001b[0mit\u001b[0m \u001b[0mmeans\u001b[0m\u001b[0;34m\u001b[0m\u001b[0;34m\u001b[0m\u001b[0m\n\u001b[1;32m     11\u001b[0m         \"\"\"\n\u001b[0;32m---> 12\u001b[0;31m         \u001b[0msuper\u001b[0m\u001b[0;34m(\u001b[0m\u001b[0mSimpleNetFinal\u001b[0m\u001b[0;34m,\u001b[0m \u001b[0mself\u001b[0m\u001b[0;34m)\u001b[0m\u001b[0;34m.\u001b[0m\u001b[0m__init__\u001b[0m\u001b[0;34m(\u001b[0m\u001b[0;34m)\u001b[0m\u001b[0;34m\u001b[0m\u001b[0;34m\u001b[0m\u001b[0m\n\u001b[0m\u001b[1;32m     13\u001b[0m \u001b[0;34m\u001b[0m\u001b[0m\n\u001b[1;32m     14\u001b[0m         \u001b[0mself\u001b[0m\u001b[0;34m.\u001b[0m\u001b[0mconv_layers\u001b[0m \u001b[0;34m=\u001b[0m \u001b[0mnn\u001b[0m\u001b[0;34m.\u001b[0m\u001b[0mSequential\u001b[0m\u001b[0;34m(\u001b[0m\u001b[0;34m)\u001b[0m\u001b[0;34m\u001b[0m\u001b[0;34m\u001b[0m\u001b[0m\n",
            "\u001b[0;31mTypeError\u001b[0m: super(type, obj): obj must be an instance or subtype of type"
          ]
        }
      ]
    },
    {
      "cell_type": "markdown",
      "metadata": {
        "id": "i7tfVgjhhb-P"
      },
      "source": [
        "Similar to the previous part, **initialize the following cell with proper values for learning rate and weight decay**."
      ]
    },
    {
      "cell_type": "code",
      "metadata": {
        "id": "rhwvWHnJhb-Q"
      },
      "source": [
        "# TODO: add a decent initial setting and tune from there. The values are intentionally bad.\n",
        "optimizer_config = {\"optimizer_type\": \"adam\", \"lr\": 3e-3, \"weight_decay\": 1e-15}"
      ],
      "execution_count": null,
      "outputs": []
    },
    {
      "cell_type": "markdown",
      "metadata": {
        "id": "tC-V_tTthb-Q"
      },
      "source": [
        "The following cell will take longer than Part 1.3, as now we have more data (and more variability), and the model is slightly more complicated than before as well; however, it should finish within 10~15 minutes anyway, and the default num_epochs is also good enough as a starting point for you to pass this part."
      ]
    },
    {
      "cell_type": "code",
      "metadata": {
        "id": "VBMTF3JZhb-R",
        "colab": {
          "base_uri": "https://localhost:8080/",
          "height": 350
        },
        "outputId": "ea417a99-463b-4271-86e0-cf6f04cfb014"
      },
      "source": [
        "simple_model_final = SimpleNetFinal()\n",
        "optimizer = get_optimizer(simple_model_final, optimizer_config)\n",
        "\n",
        "trainer = Trainer(\n",
        "    data_dir=data_path,\n",
        "    model=simple_model_final,\n",
        "    optimizer=optimizer,\n",
        "    model_dir=os.path.join(model_path, \"simple_model_final\"),\n",
        "    train_data_transforms=get_all_transforms(inp_size, [dataset_mean], [dataset_std]),\n",
        "    val_data_transforms=get_fundamental_normalization_transforms(\n",
        "        inp_size, [dataset_mean], [dataset_std]\n",
        "    ),\n",
        "    batch_size=32,\n",
        "    load_from_disk=False,\n",
        "    cuda=is_cuda,\n",
        ")"
      ],
      "execution_count": null,
      "outputs": [
        {
          "output_type": "error",
          "ename": "TypeError",
          "evalue": "ignored",
          "traceback": [
            "\u001b[0;31m---------------------------------------------------------------------------\u001b[0m",
            "\u001b[0;31mTypeError\u001b[0m                                 Traceback (most recent call last)",
            "\u001b[0;32m<ipython-input-34-b9845dcfc47c>\u001b[0m in \u001b[0;36m<module>\u001b[0;34m()\u001b[0m\n\u001b[0;32m----> 1\u001b[0;31m \u001b[0msimple_model_final\u001b[0m \u001b[0;34m=\u001b[0m \u001b[0mSimpleNetFinal\u001b[0m\u001b[0;34m(\u001b[0m\u001b[0;34m)\u001b[0m\u001b[0;34m\u001b[0m\u001b[0;34m\u001b[0m\u001b[0m\n\u001b[0m\u001b[1;32m      2\u001b[0m \u001b[0moptimizer\u001b[0m \u001b[0;34m=\u001b[0m \u001b[0mget_optimizer\u001b[0m\u001b[0;34m(\u001b[0m\u001b[0msimple_model_final\u001b[0m\u001b[0;34m,\u001b[0m \u001b[0moptimizer_config\u001b[0m\u001b[0;34m)\u001b[0m\u001b[0;34m\u001b[0m\u001b[0;34m\u001b[0m\u001b[0m\n\u001b[1;32m      3\u001b[0m \u001b[0;34m\u001b[0m\u001b[0m\n\u001b[1;32m      4\u001b[0m trainer = Trainer(\n\u001b[1;32m      5\u001b[0m     \u001b[0mdata_dir\u001b[0m\u001b[0;34m=\u001b[0m\u001b[0mdata_path\u001b[0m\u001b[0;34m,\u001b[0m\u001b[0;34m\u001b[0m\u001b[0;34m\u001b[0m\u001b[0m\n",
            "\u001b[0;32m/content/vision/simple_net_final.py\u001b[0m in \u001b[0;36m__init__\u001b[0;34m(self)\u001b[0m\n\u001b[1;32m     10\u001b[0m         \u001b[0mNote\u001b[0m\u001b[0;34m:\u001b[0m \u001b[0mUse\u001b[0m \u001b[0;34m'mean'\u001b[0m \u001b[0mreduction\u001b[0m \u001b[0;32min\u001b[0m \u001b[0mthe\u001b[0m \u001b[0mloss_criterion\u001b[0m\u001b[0;34m.\u001b[0m \u001b[0mRead\u001b[0m \u001b[0mPytorch\u001b[0m \u001b[0mdocumention\u001b[0m \u001b[0mto\u001b[0m \u001b[0munderstand\u001b[0m \u001b[0mwhat\u001b[0m \u001b[0mit\u001b[0m \u001b[0mmeans\u001b[0m\u001b[0;34m\u001b[0m\u001b[0;34m\u001b[0m\u001b[0m\n\u001b[1;32m     11\u001b[0m         \"\"\"\n\u001b[0;32m---> 12\u001b[0;31m         \u001b[0msuper\u001b[0m\u001b[0;34m(\u001b[0m\u001b[0mSimpleNetFinal\u001b[0m\u001b[0;34m,\u001b[0m \u001b[0mself\u001b[0m\u001b[0;34m)\u001b[0m\u001b[0;34m.\u001b[0m\u001b[0m__init__\u001b[0m\u001b[0;34m(\u001b[0m\u001b[0;34m)\u001b[0m\u001b[0;34m\u001b[0m\u001b[0;34m\u001b[0m\u001b[0m\n\u001b[0m\u001b[1;32m     13\u001b[0m \u001b[0;34m\u001b[0m\u001b[0m\n\u001b[1;32m     14\u001b[0m         \u001b[0mself\u001b[0m\u001b[0;34m.\u001b[0m\u001b[0mconv_layers\u001b[0m \u001b[0;34m=\u001b[0m \u001b[0mnn\u001b[0m\u001b[0;34m.\u001b[0m\u001b[0mSequential\u001b[0m\u001b[0;34m(\u001b[0m\u001b[0;34m)\u001b[0m\u001b[0;34m\u001b[0m\u001b[0;34m\u001b[0m\u001b[0m\n",
            "\u001b[0;31mTypeError\u001b[0m: super(type, obj): obj must be an instance or subtype of type"
          ]
        }
      ]
    },
    {
      "cell_type": "code",
      "metadata": {
        "id": "fpF7R50whb-R",
        "colab": {
          "base_uri": "https://localhost:8080/",
          "height": 374
        },
        "outputId": "f4bd562f-07b7-4f0e-f226-a0a2ee05073c"
      },
      "source": [
        "%%time\n",
        "trainer.run_training_loop(num_epochs=30)"
      ],
      "execution_count": null,
      "outputs": [
        {
          "output_type": "error",
          "ename": "RuntimeError",
          "evalue": "ignored",
          "traceback": [
            "\u001b[0;31m---------------------------------------------------------------------------\u001b[0m",
            "\u001b[0;31mRuntimeError\u001b[0m                              Traceback (most recent call last)",
            "\u001b[0;32m<ipython-input-53-ca5de9de1ff6>\u001b[0m in \u001b[0;36m<module>\u001b[0;34m()\u001b[0m\n\u001b[0;32m----> 1\u001b[0;31m \u001b[0mget_ipython\u001b[0m\u001b[0;34m(\u001b[0m\u001b[0;34m)\u001b[0m\u001b[0;34m.\u001b[0m\u001b[0mrun_cell_magic\u001b[0m\u001b[0;34m(\u001b[0m\u001b[0;34m'time'\u001b[0m\u001b[0;34m,\u001b[0m \u001b[0;34m''\u001b[0m\u001b[0;34m,\u001b[0m \u001b[0;34m'trainer.run_training_loop(num_epochs=30)'\u001b[0m\u001b[0;34m)\u001b[0m\u001b[0;34m\u001b[0m\u001b[0;34m\u001b[0m\u001b[0m\n\u001b[0m",
            "\u001b[0;32m/usr/local/lib/python3.7/dist-packages/IPython/core/interactiveshell.py\u001b[0m in \u001b[0;36mrun_cell_magic\u001b[0;34m(self, magic_name, line, cell)\u001b[0m\n\u001b[1;32m   2115\u001b[0m             \u001b[0mmagic_arg_s\u001b[0m \u001b[0;34m=\u001b[0m \u001b[0mself\u001b[0m\u001b[0;34m.\u001b[0m\u001b[0mvar_expand\u001b[0m\u001b[0;34m(\u001b[0m\u001b[0mline\u001b[0m\u001b[0;34m,\u001b[0m \u001b[0mstack_depth\u001b[0m\u001b[0;34m)\u001b[0m\u001b[0;34m\u001b[0m\u001b[0;34m\u001b[0m\u001b[0m\n\u001b[1;32m   2116\u001b[0m             \u001b[0;32mwith\u001b[0m \u001b[0mself\u001b[0m\u001b[0;34m.\u001b[0m\u001b[0mbuiltin_trap\u001b[0m\u001b[0;34m:\u001b[0m\u001b[0;34m\u001b[0m\u001b[0;34m\u001b[0m\u001b[0m\n\u001b[0;32m-> 2117\u001b[0;31m                 \u001b[0mresult\u001b[0m \u001b[0;34m=\u001b[0m \u001b[0mfn\u001b[0m\u001b[0;34m(\u001b[0m\u001b[0mmagic_arg_s\u001b[0m\u001b[0;34m,\u001b[0m \u001b[0mcell\u001b[0m\u001b[0;34m)\u001b[0m\u001b[0;34m\u001b[0m\u001b[0;34m\u001b[0m\u001b[0m\n\u001b[0m\u001b[1;32m   2118\u001b[0m             \u001b[0;32mreturn\u001b[0m \u001b[0mresult\u001b[0m\u001b[0;34m\u001b[0m\u001b[0;34m\u001b[0m\u001b[0m\n\u001b[1;32m   2119\u001b[0m \u001b[0;34m\u001b[0m\u001b[0m\n",
            "\u001b[0;32m<decorator-gen-53>\u001b[0m in \u001b[0;36mtime\u001b[0;34m(self, line, cell, local_ns)\u001b[0m\n",
            "\u001b[0;32m/usr/local/lib/python3.7/dist-packages/IPython/core/magic.py\u001b[0m in \u001b[0;36m<lambda>\u001b[0;34m(f, *a, **k)\u001b[0m\n\u001b[1;32m    186\u001b[0m     \u001b[0;31m# but it's overkill for just that one bit of state.\u001b[0m\u001b[0;34m\u001b[0m\u001b[0;34m\u001b[0m\u001b[0;34m\u001b[0m\u001b[0m\n\u001b[1;32m    187\u001b[0m     \u001b[0;32mdef\u001b[0m \u001b[0mmagic_deco\u001b[0m\u001b[0;34m(\u001b[0m\u001b[0marg\u001b[0m\u001b[0;34m)\u001b[0m\u001b[0;34m:\u001b[0m\u001b[0;34m\u001b[0m\u001b[0;34m\u001b[0m\u001b[0m\n\u001b[0;32m--> 188\u001b[0;31m         \u001b[0mcall\u001b[0m \u001b[0;34m=\u001b[0m \u001b[0;32mlambda\u001b[0m \u001b[0mf\u001b[0m\u001b[0;34m,\u001b[0m \u001b[0;34m*\u001b[0m\u001b[0ma\u001b[0m\u001b[0;34m,\u001b[0m \u001b[0;34m**\u001b[0m\u001b[0mk\u001b[0m\u001b[0;34m:\u001b[0m \u001b[0mf\u001b[0m\u001b[0;34m(\u001b[0m\u001b[0;34m*\u001b[0m\u001b[0ma\u001b[0m\u001b[0;34m,\u001b[0m \u001b[0;34m**\u001b[0m\u001b[0mk\u001b[0m\u001b[0;34m)\u001b[0m\u001b[0;34m\u001b[0m\u001b[0;34m\u001b[0m\u001b[0m\n\u001b[0m\u001b[1;32m    189\u001b[0m \u001b[0;34m\u001b[0m\u001b[0m\n\u001b[1;32m    190\u001b[0m         \u001b[0;32mif\u001b[0m \u001b[0mcallable\u001b[0m\u001b[0;34m(\u001b[0m\u001b[0marg\u001b[0m\u001b[0;34m)\u001b[0m\u001b[0;34m:\u001b[0m\u001b[0;34m\u001b[0m\u001b[0;34m\u001b[0m\u001b[0m\n",
            "\u001b[0;32m/usr/local/lib/python3.7/dist-packages/IPython/core/magics/execution.py\u001b[0m in \u001b[0;36mtime\u001b[0;34m(self, line, cell, local_ns)\u001b[0m\n\u001b[1;32m   1187\u001b[0m         \u001b[0;32mif\u001b[0m \u001b[0mmode\u001b[0m\u001b[0;34m==\u001b[0m\u001b[0;34m'eval'\u001b[0m\u001b[0;34m:\u001b[0m\u001b[0;34m\u001b[0m\u001b[0;34m\u001b[0m\u001b[0m\n\u001b[1;32m   1188\u001b[0m             \u001b[0mst\u001b[0m \u001b[0;34m=\u001b[0m \u001b[0mclock2\u001b[0m\u001b[0;34m(\u001b[0m\u001b[0;34m)\u001b[0m\u001b[0;34m\u001b[0m\u001b[0;34m\u001b[0m\u001b[0m\n\u001b[0;32m-> 1189\u001b[0;31m             \u001b[0mout\u001b[0m \u001b[0;34m=\u001b[0m \u001b[0meval\u001b[0m\u001b[0;34m(\u001b[0m\u001b[0mcode\u001b[0m\u001b[0;34m,\u001b[0m \u001b[0mglob\u001b[0m\u001b[0;34m,\u001b[0m \u001b[0mlocal_ns\u001b[0m\u001b[0;34m)\u001b[0m\u001b[0;34m\u001b[0m\u001b[0;34m\u001b[0m\u001b[0m\n\u001b[0m\u001b[1;32m   1190\u001b[0m             \u001b[0mend\u001b[0m \u001b[0;34m=\u001b[0m \u001b[0mclock2\u001b[0m\u001b[0;34m(\u001b[0m\u001b[0;34m)\u001b[0m\u001b[0;34m\u001b[0m\u001b[0;34m\u001b[0m\u001b[0m\n\u001b[1;32m   1191\u001b[0m         \u001b[0;32melse\u001b[0m\u001b[0;34m:\u001b[0m\u001b[0;34m\u001b[0m\u001b[0;34m\u001b[0m\u001b[0m\n",
            "\u001b[0;32m<timed eval>\u001b[0m in \u001b[0;36m<module>\u001b[0;34m()\u001b[0m\n",
            "\u001b[0;32m/content/vision/runner.py\u001b[0m in \u001b[0;36mrun_training_loop\u001b[0;34m(self, num_epochs)\u001b[0m\n\u001b[1;32m    108\u001b[0m         \u001b[0;32mfor\u001b[0m \u001b[0mepoch_idx\u001b[0m \u001b[0;32min\u001b[0m \u001b[0mrange\u001b[0m\u001b[0;34m(\u001b[0m\u001b[0mnum_epochs\u001b[0m\u001b[0;34m)\u001b[0m\u001b[0;34m:\u001b[0m\u001b[0;34m\u001b[0m\u001b[0;34m\u001b[0m\u001b[0m\n\u001b[1;32m    109\u001b[0m \u001b[0;34m\u001b[0m\u001b[0m\n\u001b[0;32m--> 110\u001b[0;31m             \u001b[0mtrain_loss\u001b[0m\u001b[0;34m,\u001b[0m \u001b[0mtrain_acc\u001b[0m \u001b[0;34m=\u001b[0m \u001b[0mself\u001b[0m\u001b[0;34m.\u001b[0m\u001b[0mtrain_epoch\u001b[0m\u001b[0;34m(\u001b[0m\u001b[0;34m)\u001b[0m\u001b[0;34m\u001b[0m\u001b[0;34m\u001b[0m\u001b[0m\n\u001b[0m\u001b[1;32m    111\u001b[0m \u001b[0;34m\u001b[0m\u001b[0m\n\u001b[1;32m    112\u001b[0m             \u001b[0mself\u001b[0m\u001b[0;34m.\u001b[0m\u001b[0mtrain_loss_history\u001b[0m\u001b[0;34m.\u001b[0m\u001b[0mappend\u001b[0m\u001b[0;34m(\u001b[0m\u001b[0mtrain_loss\u001b[0m\u001b[0;34m)\u001b[0m\u001b[0;34m\u001b[0m\u001b[0;34m\u001b[0m\u001b[0m\n",
            "\u001b[0;32m/content/vision/runner.py\u001b[0m in \u001b[0;36mtrain_epoch\u001b[0;34m(self)\u001b[0m\n\u001b[1;32m    139\u001b[0m \u001b[0;34m\u001b[0m\u001b[0m\n\u001b[1;32m    140\u001b[0m             \u001b[0mn\u001b[0m \u001b[0;34m=\u001b[0m \u001b[0mx\u001b[0m\u001b[0;34m.\u001b[0m\u001b[0mshape\u001b[0m\u001b[0;34m[\u001b[0m\u001b[0;36m0\u001b[0m\u001b[0;34m]\u001b[0m\u001b[0;34m\u001b[0m\u001b[0;34m\u001b[0m\u001b[0m\n\u001b[0;32m--> 141\u001b[0;31m             \u001b[0mlogits\u001b[0m \u001b[0;34m=\u001b[0m \u001b[0mself\u001b[0m\u001b[0;34m.\u001b[0m\u001b[0mmodel\u001b[0m\u001b[0;34m(\u001b[0m\u001b[0mx\u001b[0m\u001b[0;34m)\u001b[0m\u001b[0;34m\u001b[0m\u001b[0;34m\u001b[0m\u001b[0m\n\u001b[0m\u001b[1;32m    142\u001b[0m             \u001b[0mbatch_acc\u001b[0m \u001b[0;34m=\u001b[0m \u001b[0mcompute_accuracy\u001b[0m\u001b[0;34m(\u001b[0m\u001b[0mlogits\u001b[0m\u001b[0;34m,\u001b[0m \u001b[0my\u001b[0m\u001b[0;34m)\u001b[0m\u001b[0;34m\u001b[0m\u001b[0;34m\u001b[0m\u001b[0m\n\u001b[1;32m    143\u001b[0m             \u001b[0mtrain_acc_meter\u001b[0m\u001b[0;34m.\u001b[0m\u001b[0mupdate\u001b[0m\u001b[0;34m(\u001b[0m\u001b[0mval\u001b[0m\u001b[0;34m=\u001b[0m\u001b[0mbatch_acc\u001b[0m\u001b[0;34m,\u001b[0m \u001b[0mn\u001b[0m\u001b[0;34m=\u001b[0m\u001b[0mn\u001b[0m\u001b[0;34m)\u001b[0m\u001b[0;34m\u001b[0m\u001b[0;34m\u001b[0m\u001b[0m\n",
            "\u001b[0;32m/usr/local/lib/python3.7/dist-packages/torch/nn/modules/module.py\u001b[0m in \u001b[0;36m_call_impl\u001b[0;34m(self, *input, **kwargs)\u001b[0m\n\u001b[1;32m   1049\u001b[0m         if not (self._backward_hooks or self._forward_hooks or self._forward_pre_hooks or _global_backward_hooks\n\u001b[1;32m   1050\u001b[0m                 or _global_forward_hooks or _global_forward_pre_hooks):\n\u001b[0;32m-> 1051\u001b[0;31m             \u001b[0;32mreturn\u001b[0m \u001b[0mforward_call\u001b[0m\u001b[0;34m(\u001b[0m\u001b[0;34m*\u001b[0m\u001b[0minput\u001b[0m\u001b[0;34m,\u001b[0m \u001b[0;34m**\u001b[0m\u001b[0mkwargs\u001b[0m\u001b[0;34m)\u001b[0m\u001b[0;34m\u001b[0m\u001b[0;34m\u001b[0m\u001b[0m\n\u001b[0m\u001b[1;32m   1052\u001b[0m         \u001b[0;31m# Do not call functions when jit is used\u001b[0m\u001b[0;34m\u001b[0m\u001b[0;34m\u001b[0m\u001b[0;34m\u001b[0m\u001b[0m\n\u001b[1;32m   1053\u001b[0m         \u001b[0mfull_backward_hooks\u001b[0m\u001b[0;34m,\u001b[0m \u001b[0mnon_full_backward_hooks\u001b[0m \u001b[0;34m=\u001b[0m \u001b[0;34m[\u001b[0m\u001b[0;34m]\u001b[0m\u001b[0;34m,\u001b[0m \u001b[0;34m[\u001b[0m\u001b[0;34m]\u001b[0m\u001b[0;34m\u001b[0m\u001b[0;34m\u001b[0m\u001b[0m\n",
            "\u001b[0;32m/content/vision/simple_net_final.py\u001b[0m in \u001b[0;36mforward\u001b[0;34m(self, x)\u001b[0m\n\u001b[1;32m     61\u001b[0m         \u001b[0;31m############################################################################\u001b[0m\u001b[0;34m\u001b[0m\u001b[0;34m\u001b[0m\u001b[0;34m\u001b[0m\u001b[0m\n\u001b[1;32m     62\u001b[0m \u001b[0;34m\u001b[0m\u001b[0m\n\u001b[0;32m---> 63\u001b[0;31m         \u001b[0mmodel_output\u001b[0m \u001b[0;34m=\u001b[0m \u001b[0mself\u001b[0m\u001b[0;34m.\u001b[0m\u001b[0mfc_layers\u001b[0m\u001b[0;34m(\u001b[0m\u001b[0mself\u001b[0m\u001b[0;34m.\u001b[0m\u001b[0mconv_layers\u001b[0m\u001b[0;34m(\u001b[0m\u001b[0mx\u001b[0m\u001b[0;34m)\u001b[0m\u001b[0;34m.\u001b[0m\u001b[0mreshape\u001b[0m\u001b[0;34m(\u001b[0m\u001b[0;34m-\u001b[0m\u001b[0;36m1\u001b[0m\u001b[0;34m,\u001b[0m \u001b[0;36m500\u001b[0m\u001b[0;34m)\u001b[0m\u001b[0;34m)\u001b[0m\u001b[0;34m\u001b[0m\u001b[0;34m\u001b[0m\u001b[0m\n\u001b[0m\u001b[1;32m     64\u001b[0m \u001b[0;34m\u001b[0m\u001b[0m\n\u001b[1;32m     65\u001b[0m         \u001b[0;31m############################################################################\u001b[0m\u001b[0;34m\u001b[0m\u001b[0;34m\u001b[0m\u001b[0;34m\u001b[0m\u001b[0m\n",
            "\u001b[0;31mRuntimeError\u001b[0m: shape '[-1, 500]' is invalid for input of size 338560"
          ]
        }
      ]
    },
    {
      "cell_type": "markdown",
      "metadata": {
        "id": "BSvR7Ufjhb-S"
      },
      "source": [
        "Similar to Part 1, now plot out the loss and accuracy history. Also copy the plots onto the report, and answer the questions accordingly."
      ]
    },
    {
      "cell_type": "code",
      "metadata": {
        "id": "Chc9YDS9hb-S",
        "colab": {
          "base_uri": "https://localhost:8080/",
          "height": 573
        },
        "outputId": "f3c58a07-f49c-45ce-d5b1-a3a1acd266ab"
      },
      "source": [
        "trainer.plot_loss_history()\n",
        "trainer.plot_accuracy()"
      ],
      "execution_count": null,
      "outputs": [
        {
          "output_type": "display_data",
          "data": {
            "image/png": "[encoded data removed]",
            "text/plain": [
              "<Figure size 432x288 with 1 Axes>"
            ]
          },
          "metadata": {
            "needs_background": "light"
          }
        },
        {
          "output_type": "display_data",
          "data": {
            "image/png": "[encoded data removed]",
            "text/plain": [
              "<Figure size 432x288 with 1 Axes>"
            ]
          },
          "metadata": {
            "needs_background": "light"
          }
        }
      ]
    },
    {
      "cell_type": "code",
      "metadata": {
        "id": "m9wHX7tohb-T",
        "colab": {
          "base_uri": "https://localhost:8080/",
          "height": 231
        },
        "outputId": "46da3a14-61a9-4abc-cf52-2224e65cca90"
      },
      "source": [
        "train_accuracy = trainer.train_accuracy_history[-1]\n",
        "validation_accuracy = trainer.validation_accuracy_history[-1]\n",
        "print(\n",
        "    \"Train Accuracy = {}; Validation Accuracy = {}\".format(\n",
        "        train_accuracy, validation_accuracy\n",
        "    )\n",
        ")"
      ],
      "execution_count": null,
      "outputs": [
        {
          "output_type": "error",
          "ename": "IndexError",
          "evalue": "ignored",
          "traceback": [
            "\u001b[0;31m---------------------------------------------------------------------------\u001b[0m",
            "\u001b[0;31mIndexError\u001b[0m                                Traceback (most recent call last)",
            "\u001b[0;32m<ipython-input-49-333109623f85>\u001b[0m in \u001b[0;36m<module>\u001b[0;34m()\u001b[0m\n\u001b[0;32m----> 1\u001b[0;31m \u001b[0mtrain_accuracy\u001b[0m \u001b[0;34m=\u001b[0m \u001b[0mtrainer\u001b[0m\u001b[0;34m.\u001b[0m\u001b[0mtrain_accuracy_history\u001b[0m\u001b[0;34m[\u001b[0m\u001b[0;34m-\u001b[0m\u001b[0;36m1\u001b[0m\u001b[0;34m]\u001b[0m\u001b[0;34m\u001b[0m\u001b[0;34m\u001b[0m\u001b[0m\n\u001b[0m\u001b[1;32m      2\u001b[0m \u001b[0mvalidation_accuracy\u001b[0m \u001b[0;34m=\u001b[0m \u001b[0mtrainer\u001b[0m\u001b[0;34m.\u001b[0m\u001b[0mvalidation_accuracy_history\u001b[0m\u001b[0;34m[\u001b[0m\u001b[0;34m-\u001b[0m\u001b[0;36m1\u001b[0m\u001b[0;34m]\u001b[0m\u001b[0;34m\u001b[0m\u001b[0;34m\u001b[0m\u001b[0m\n\u001b[1;32m      3\u001b[0m print(\n\u001b[1;32m      4\u001b[0m     \"Train Accuracy = {}; Validation Accuracy = {}\".format(\n\u001b[1;32m      5\u001b[0m         \u001b[0mtrain_accuracy\u001b[0m\u001b[0;34m,\u001b[0m \u001b[0mvalidation_accuracy\u001b[0m\u001b[0;34m\u001b[0m\u001b[0;34m\u001b[0m\u001b[0m\n",
            "\u001b[0;31mIndexError\u001b[0m: list index out of range"
          ]
        }
      ]
    },
    {
      "cell_type": "markdown",
      "metadata": {
        "id": "aHJVkkG9hb-T"
      },
      "source": [
        "**TODO 13:** Obtain a **55%** validation accuracy to receive full credit for Part 2."
      ]
    },
    {
      "cell_type": "markdown",
      "metadata": {
        "id": "mLUgrlT5hb-T"
      },
      "source": [
        "### Save the model for your SimpleNetFinal"
      ]
    },
    {
      "cell_type": "code",
      "metadata": {
        "id": "kdMA-QIEhb-U"
      },
      "source": [
        "save_trained_model_weights(simple_model_final, out_dir=\"./\")"
      ],
      "execution_count": null,
      "outputs": []
    },
    {
      "cell_type": "markdown",
      "metadata": {
        "id": "ywG8NSYxhb-U"
      },
      "source": [
        "### Part 2.6: Analysis using confusion matrix\n",
        "A confusion matrix is a helpful tool for visualizing the performance of classification algorithms. Each row of the matrix represents the instances in a predicted class, while each column represents the instances in an actual class. The confusion matrix counts the number of instances of a given (target, prediction) pair. We are able to use this to understand the classification behaviour.\n",
        "\n",
        "A confusion matrix can also be normalized by dividing each row by the total number of instances of the target class. This is helpful for comparing between large and small datasets, as well as when there is significant class imbalance."
      ]
    },
    {
      "cell_type": "markdown",
      "metadata": {
        "id": "5xhbUUMDhb-U"
      },
      "source": [
        "**TODO 14:** Do the following to visualize the confusion matrix:\n",
        "\n",
        "1. Implement the code to extract the predictions and targets from a model and a dataset\n",
        "2. Implement the code to generate the confusion matrix, and its normalized form\n",
        "3. Plot the confusion matrix and try to understand how your model is performing, and where it falls short. We'll use this later on for the report."
      ]
    },
    {
      "cell_type": "code",
      "metadata": {
        "id": "47oQB8Y5hb-V",
        "colab": {
          "base_uri": "https://localhost:8080/"
        },
        "outputId": "5b9b5f45-787b-41fe-ab0b-972be00c62d7"
      },
      "source": [
        "print(verify(test_generate_confusion_matrix))\n",
        "print(verify(test_generate_confusion_matrix_normalized))"
      ],
      "execution_count": null,
      "outputs": [
        {
          "output_type": "stream",
          "name": "stdout",
          "text": [
            "\u001b[32m\"Correct\"\u001b[0m\n",
            "\u001b[32m\"Correct\"\u001b[0m\n"
          ]
        }
      ]
    },
    {
      "cell_type": "code",
      "metadata": {
        "id": "alg_NXDphb-V",
        "colab": {
          "base_uri": "https://localhost:8080/"
        },
        "outputId": "1ac99292-b7c6-42fa-ea15-59346bc278a7"
      },
      "source": [
        "%%time\n",
        "targets, predictions, class_labels = generate_confusion_data(\n",
        "    trainer.model, trainer.val_dataset, use_cuda=is_cuda\n",
        ")"
      ],
      "execution_count": null,
      "outputs": [
        {
          "output_type": "stream",
          "name": "stdout",
          "text": [
            "CPU times: user 631 ms, sys: 66.1 ms, total: 698 ms\n",
            "Wall time: 2.24 s\n"
          ]
        }
      ]
    },
    {
      "cell_type": "code",
      "metadata": {
        "id": "eiAcQIdWhb-V"
      },
      "source": [
        "confusion_matrix = generate_confusion_matrix(targets, predictions, len(class_labels))"
      ],
      "execution_count": null,
      "outputs": []
    },
    {
      "cell_type": "code",
      "metadata": {
        "id": "MUzxZ1-Qhb-W",
        "colab": {
          "base_uri": "https://localhost:8080/",
          "height": 612
        },
        "outputId": "1f26c3b8-9307-4104-96ab-8d7cb0436b1d"
      },
      "source": [
        "plot_confusion_matrix(confusion_matrix, class_labels)"
      ],
      "execution_count": null,
      "outputs": [
        {
          "output_type": "display_data",
          "data": {
            "image/png": "[encoded data removed]",
            "text/plain": [
              "<Figure size 720x720 with 1 Axes>"
            ]
          },
          "metadata": {
            "needs_background": "light"
          }
        }
      ]
    },
    {
      "cell_type": "markdown",
      "metadata": {
        "id": "amh1wxlJBpHj"
      },
      "source": [
        "## Part 3: ResNet\n",
        "You can see that after the above adjustment, our model performance increases in terms of testing accuracy. Although the training accuracy drops, now it's closer to the testing values and that's more natural in terms of performance. But we are not satisfied with the final performance yet. Our model, in the end, is still a 2-layer SimpleNet and it might be capable of capturing some features, but could be improved a lot if we go **deeper**. In this part we are going to see the power of a famous model: ResNet18."
      ]
    },
    {
      "cell_type": "code",
      "metadata": {
        "id": "ttbhBZ7CXUng"
      },
      "source": [
        "inp_size = (224, 224)"
      ],
      "execution_count": null,
      "outputs": []
    },
    {
      "cell_type": "markdown",
      "metadata": {
        "id": "HGzfNfMivgjb"
      },
      "source": [
        "### Part 3.1 & 3.2: Fine-tuning the ResNet\n",
        "Now let's define a ResNet which can be fit onto our dataset. PyTorch has provided us with pre-trained models like ResNet18, so what you want to do is to load the model first, and then adjust some of the layers such that it fits with our own dataset, instead of outputing scores to 1000 classes from the original ResNet18 model.\n",
        "\n",
        "\n",
        "**TODO 15:** Switch to `my_resnet.py`, and copy the network architecture and weights of all but the last fc layers from the pretrained network.\n",
        "\n",
        "After you have defined the correct architecture of the model, make some tweaks to the existing layers: **freeze** the **convolutional** layers and first 2 **linear** layers so we don't update the weights of them; more details can be found in the instruction webpage.\n",
        "\n",
        "Note that you are allowed to add more layers/unfreeze more layers if you see fit."
      ]
    },
    {
      "cell_type": "code",
      "metadata": {
        "id": "Ruw-dg8avgjb",
        "colab": {
          "base_uri": "https://localhost:8080/"
        },
        "outputId": "1c9b69f1-2fac-48ea-dc1c-b20d28b45403"
      },
      "source": [
        "print(\"Testing your ResNet architecture: \", verify(test_my_resnet))"
      ],
      "execution_count": null,
      "outputs": [
        {
          "output_type": "stream",
          "name": "stdout",
          "text": [
            "<bound method Module.requires_grad_ of Sequential(\n",
            "  (0): Conv2d(3, 64, kernel_size=(7, 7), stride=(2, 2), padding=(3, 3), bias=False)\n",
            "  (1): BatchNorm2d(64, eps=1e-05, momentum=0.1, affine=True, track_running_stats=True)\n",
            "  (2): ReLU(inplace=True)\n",
            "  (3): MaxPool2d(kernel_size=3, stride=2, padding=1, dilation=1, ceil_mode=False)\n",
            "  (4): Sequential(\n",
            "    (0): BasicBlock(\n",
            "      (conv1): Conv2d(64, 64, kernel_size=(3, 3), stride=(1, 1), padding=(1, 1), bias=False)\n",
            "      (bn1): BatchNorm2d(64, eps=1e-05, momentum=0.1, affine=True, track_running_stats=True)\n",
            "      (relu): ReLU(inplace=True)\n",
            "      (conv2): Conv2d(64, 64, kernel_size=(3, 3), stride=(1, 1), padding=(1, 1), bias=False)\n",
            "      (bn2): BatchNorm2d(64, eps=1e-05, momentum=0.1, affine=True, track_running_stats=True)\n",
            "    )\n",
            "    (1): BasicBlock(\n",
            "      (conv1): Conv2d(64, 64, kernel_size=(3, 3), stride=(1, 1), padding=(1, 1), bias=False)\n",
            "      (bn1): BatchNorm2d(64, eps=1e-05, momentum=0.1, affine=True, track_running_stats=True)\n",
            "      (relu): ReLU(inplace=True)\n",
            "      (conv2): Conv2d(64, 64, kernel_size=(3, 3), stride=(1, 1), padding=(1, 1), bias=False)\n",
            "      (bn2): BatchNorm2d(64, eps=1e-05, momentum=0.1, affine=True, track_running_stats=True)\n",
            "    )\n",
            "  )\n",
            "  (5): Sequential(\n",
            "    (0): BasicBlock(\n",
            "      (conv1): Conv2d(64, 128, kernel_size=(3, 3), stride=(2, 2), padding=(1, 1), bias=False)\n",
            "      (bn1): BatchNorm2d(128, eps=1e-05, momentum=0.1, affine=True, track_running_stats=True)\n",
            "      (relu): ReLU(inplace=True)\n",
            "      (conv2): Conv2d(128, 128, kernel_size=(3, 3), stride=(1, 1), padding=(1, 1), bias=False)\n",
            "      (bn2): BatchNorm2d(128, eps=1e-05, momentum=0.1, affine=True, track_running_stats=True)\n",
            "      (downsample): Sequential(\n",
            "        (0): Conv2d(64, 128, kernel_size=(1, 1), stride=(2, 2), bias=False)\n",
            "        (1): BatchNorm2d(128, eps=1e-05, momentum=0.1, affine=True, track_running_stats=True)\n",
            "      )\n",
            "    )\n",
            "    (1): BasicBlock(\n",
            "      (conv1): Conv2d(128, 128, kernel_size=(3, 3), stride=(1, 1), padding=(1, 1), bias=False)\n",
            "      (bn1): BatchNorm2d(128, eps=1e-05, momentum=0.1, affine=True, track_running_stats=True)\n",
            "      (relu): ReLU(inplace=True)\n",
            "      (conv2): Conv2d(128, 128, kernel_size=(3, 3), stride=(1, 1), padding=(1, 1), bias=False)\n",
            "      (bn2): BatchNorm2d(128, eps=1e-05, momentum=0.1, affine=True, track_running_stats=True)\n",
            "    )\n",
            "  )\n",
            "  (6): Sequential(\n",
            "    (0): BasicBlock(\n",
            "      (conv1): Conv2d(128, 256, kernel_size=(3, 3), stride=(2, 2), padding=(1, 1), bias=False)\n",
            "      (bn1): BatchNorm2d(256, eps=1e-05, momentum=0.1, affine=True, track_running_stats=True)\n",
            "      (relu): ReLU(inplace=True)\n",
            "      (conv2): Conv2d(256, 256, kernel_size=(3, 3), stride=(1, 1), padding=(1, 1), bias=False)\n",
            "      (bn2): BatchNorm2d(256, eps=1e-05, momentum=0.1, affine=True, track_running_stats=True)\n",
            "      (downsample): Sequential(\n",
            "        (0): Conv2d(128, 256, kernel_size=(1, 1), stride=(2, 2), bias=False)\n",
            "        (1): BatchNorm2d(256, eps=1e-05, momentum=0.1, affine=True, track_running_stats=True)\n",
            "      )\n",
            "    )\n",
            "    (1): BasicBlock(\n",
            "      (conv1): Conv2d(256, 256, kernel_size=(3, 3), stride=(1, 1), padding=(1, 1), bias=False)\n",
            "      (bn1): BatchNorm2d(256, eps=1e-05, momentum=0.1, affine=True, track_running_stats=True)\n",
            "      (relu): ReLU(inplace=True)\n",
            "      (conv2): Conv2d(256, 256, kernel_size=(3, 3), stride=(1, 1), padding=(1, 1), bias=False)\n",
            "      (bn2): BatchNorm2d(256, eps=1e-05, momentum=0.1, affine=True, track_running_stats=True)\n",
            "    )\n",
            "  )\n",
            "  (7): Sequential(\n",
            "    (0): BasicBlock(\n",
            "      (conv1): Conv2d(256, 512, kernel_size=(3, 3), stride=(2, 2), padding=(1, 1), bias=False)\n",
            "      (bn1): BatchNorm2d(512, eps=1e-05, momentum=0.1, affine=True, track_running_stats=True)\n",
            "      (relu): ReLU(inplace=True)\n",
            "      (conv2): Conv2d(512, 512, kernel_size=(3, 3), stride=(1, 1), padding=(1, 1), bias=False)\n",
            "      (bn2): BatchNorm2d(512, eps=1e-05, momentum=0.1, affine=True, track_running_stats=True)\n",
            "      (downsample): Sequential(\n",
            "        (0): Conv2d(256, 512, kernel_size=(1, 1), stride=(2, 2), bias=False)\n",
            "        (1): BatchNorm2d(512, eps=1e-05, momentum=0.1, affine=True, track_running_stats=True)\n",
            "      )\n",
            "    )\n",
            "    (1): BasicBlock(\n",
            "      (conv1): Conv2d(512, 512, kernel_size=(3, 3), stride=(1, 1), padding=(1, 1), bias=False)\n",
            "      (bn1): BatchNorm2d(512, eps=1e-05, momentum=0.1, affine=True, track_running_stats=True)\n",
            "      (relu): ReLU(inplace=True)\n",
            "      (conv2): Conv2d(512, 512, kernel_size=(3, 3), stride=(1, 1), padding=(1, 1), bias=False)\n",
            "      (bn2): BatchNorm2d(512, eps=1e-05, momentum=0.1, affine=True, track_running_stats=True)\n",
            "    )\n",
            "  )\n",
            "  (8): AdaptiveAvgPool2d(output_size=(1, 1))\n",
            ")>\n",
            "Testing your ResNet architecture:  \u001b[32m\"Correct\"\u001b[0m\n"
          ]
        }
      ]
    },
    {
      "cell_type": "code",
      "metadata": {
        "id": "CBoLgRrlBpHl",
        "colab": {
          "base_uri": "https://localhost:8080/"
        },
        "outputId": "9298b5cf-aa71-4820-d4bc-99972ea5ec1a"
      },
      "source": [
        "my_resnet = MyResNet18()\n",
        "print(my_resnet)"
      ],
      "execution_count": null,
      "outputs": [
        {
          "output_type": "stream",
          "name": "stdout",
          "text": [
            "MyResNet18(\n",
            "  (conv_layers): Sequential(\n",
            "    (0): Conv2d(3, 64, kernel_size=(7, 7), stride=(2, 2), padding=(3, 3), bias=False)\n",
            "    (1): BatchNorm2d(64, eps=1e-05, momentum=0.1, affine=True, track_running_stats=True)\n",
            "    (2): ReLU(inplace=True)\n",
            "    (3): MaxPool2d(kernel_size=3, stride=2, padding=1, dilation=1, ceil_mode=False)\n",
            "    (4): Sequential(\n",
            "      (0): BasicBlock(\n",
            "        (conv1): Conv2d(64, 64, kernel_size=(3, 3), stride=(1, 1), padding=(1, 1), bias=False)\n",
            "        (bn1): BatchNorm2d(64, eps=1e-05, momentum=0.1, affine=True, track_running_stats=True)\n",
            "        (relu): ReLU(inplace=True)\n",
            "        (conv2): Conv2d(64, 64, kernel_size=(3, 3), stride=(1, 1), padding=(1, 1), bias=False)\n",
            "        (bn2): BatchNorm2d(64, eps=1e-05, momentum=0.1, affine=True, track_running_stats=True)\n",
            "      )\n",
            "      (1): BasicBlock(\n",
            "        (conv1): Conv2d(64, 64, kernel_size=(3, 3), stride=(1, 1), padding=(1, 1), bias=False)\n",
            "        (bn1): BatchNorm2d(64, eps=1e-05, momentum=0.1, affine=True, track_running_stats=True)\n",
            "        (relu): ReLU(inplace=True)\n",
            "        (conv2): Conv2d(64, 64, kernel_size=(3, 3), stride=(1, 1), padding=(1, 1), bias=False)\n",
            "        (bn2): BatchNorm2d(64, eps=1e-05, momentum=0.1, affine=True, track_running_stats=True)\n",
            "      )\n",
            "    )\n",
            "    (5): Sequential(\n",
            "      (0): BasicBlock(\n",
            "        (conv1): Conv2d(64, 128, kernel_size=(3, 3), stride=(2, 2), padding=(1, 1), bias=False)\n",
            "        (bn1): BatchNorm2d(128, eps=1e-05, momentum=0.1, affine=True, track_running_stats=True)\n",
            "        (relu): ReLU(inplace=True)\n",
            "        (conv2): Conv2d(128, 128, kernel_size=(3, 3), stride=(1, 1), padding=(1, 1), bias=False)\n",
            "        (bn2): BatchNorm2d(128, eps=1e-05, momentum=0.1, affine=True, track_running_stats=True)\n",
            "        (downsample): Sequential(\n",
            "          (0): Conv2d(64, 128, kernel_size=(1, 1), stride=(2, 2), bias=False)\n",
            "          (1): BatchNorm2d(128, eps=1e-05, momentum=0.1, affine=True, track_running_stats=True)\n",
            "        )\n",
            "      )\n",
            "      (1): BasicBlock(\n",
            "        (conv1): Conv2d(128, 128, kernel_size=(3, 3), stride=(1, 1), padding=(1, 1), bias=False)\n",
            "        (bn1): BatchNorm2d(128, eps=1e-05, momentum=0.1, affine=True, track_running_stats=True)\n",
            "        (relu): ReLU(inplace=True)\n",
            "        (conv2): Conv2d(128, 128, kernel_size=(3, 3), stride=(1, 1), padding=(1, 1), bias=False)\n",
            "        (bn2): BatchNorm2d(128, eps=1e-05, momentum=0.1, affine=True, track_running_stats=True)\n",
            "      )\n",
            "    )\n",
            "    (6): Sequential(\n",
            "      (0): BasicBlock(\n",
            "        (conv1): Conv2d(128, 256, kernel_size=(3, 3), stride=(2, 2), padding=(1, 1), bias=False)\n",
            "        (bn1): BatchNorm2d(256, eps=1e-05, momentum=0.1, affine=True, track_running_stats=True)\n",
            "        (relu): ReLU(inplace=True)\n",
            "        (conv2): Conv2d(256, 256, kernel_size=(3, 3), stride=(1, 1), padding=(1, 1), bias=False)\n",
            "        (bn2): BatchNorm2d(256, eps=1e-05, momentum=0.1, affine=True, track_running_stats=True)\n",
            "        (downsample): Sequential(\n",
            "          (0): Conv2d(128, 256, kernel_size=(1, 1), stride=(2, 2), bias=False)\n",
            "          (1): BatchNorm2d(256, eps=1e-05, momentum=0.1, affine=True, track_running_stats=True)\n",
            "        )\n",
            "      )\n",
            "      (1): BasicBlock(\n",
            "        (conv1): Conv2d(256, 256, kernel_size=(3, 3), stride=(1, 1), padding=(1, 1), bias=False)\n",
            "        (bn1): BatchNorm2d(256, eps=1e-05, momentum=0.1, affine=True, track_running_stats=True)\n",
            "        (relu): ReLU(inplace=True)\n",
            "        (conv2): Conv2d(256, 256, kernel_size=(3, 3), stride=(1, 1), padding=(1, 1), bias=False)\n",
            "        (bn2): BatchNorm2d(256, eps=1e-05, momentum=0.1, affine=True, track_running_stats=True)\n",
            "      )\n",
            "    )\n",
            "    (7): Sequential(\n",
            "      (0): BasicBlock(\n",
            "        (conv1): Conv2d(256, 512, kernel_size=(3, 3), stride=(2, 2), padding=(1, 1), bias=False)\n",
            "        (bn1): BatchNorm2d(512, eps=1e-05, momentum=0.1, affine=True, track_running_stats=True)\n",
            "        (relu): ReLU(inplace=True)\n",
            "        (conv2): Conv2d(512, 512, kernel_size=(3, 3), stride=(1, 1), padding=(1, 1), bias=False)\n",
            "        (bn2): BatchNorm2d(512, eps=1e-05, momentum=0.1, affine=True, track_running_stats=True)\n",
            "        (downsample): Sequential(\n",
            "          (0): Conv2d(256, 512, kernel_size=(1, 1), stride=(2, 2), bias=False)\n",
            "          (1): BatchNorm2d(512, eps=1e-05, momentum=0.1, affine=True, track_running_stats=True)\n",
            "        )\n",
            "      )\n",
            "      (1): BasicBlock(\n",
            "        (conv1): Conv2d(512, 512, kernel_size=(3, 3), stride=(1, 1), padding=(1, 1), bias=False)\n",
            "        (bn1): BatchNorm2d(512, eps=1e-05, momentum=0.1, affine=True, track_running_stats=True)\n",
            "        (relu): ReLU(inplace=True)\n",
            "        (conv2): Conv2d(512, 512, kernel_size=(3, 3), stride=(1, 1), padding=(1, 1), bias=False)\n",
            "        (bn2): BatchNorm2d(512, eps=1e-05, momentum=0.1, affine=True, track_running_stats=True)\n",
            "      )\n",
            "    )\n",
            "    (8): AdaptiveAvgPool2d(output_size=(1, 1))\n",
            "  )\n",
            "  (fc_layers): Sequential(\n",
            "    (0): Linear(in_features=512, out_features=15, bias=True)\n",
            "  )\n",
            "  (loss_criterion): CrossEntropyLoss()\n",
            ")\n"
          ]
        }
      ]
    },
    {
      "cell_type": "code",
      "metadata": {
        "id": "J6AYkHAgBpHw"
      },
      "source": [
        "# TODO: add a decent initial setting and tune from there. The values are intentionally bad.\n",
        "optimizer_config = {\"optimizer_type\": \"adam\", \"lr\": 3e-3, \"weight_decay\": 1e-15}"
      ],
      "execution_count": null,
      "outputs": []
    },
    {
      "cell_type": "code",
      "metadata": {
        "id": "DtCIaTMmBpIK"
      },
      "source": [
        "my_resnet = MyResNet18()\n",
        "optimizer = get_optimizer(my_resnet, optimizer_config)\n",
        "\n",
        "trainer = Trainer(\n",
        "    data_dir=data_path,\n",
        "    model=my_resnet,\n",
        "    optimizer=optimizer,\n",
        "    model_dir=os.path.join(model_path, \"resnet18\"),\n",
        "    train_data_transforms=get_all_transforms(inp_size, [dataset_mean], [dataset_std]),\n",
        "    val_data_transforms=get_fundamental_normalization_transforms(\n",
        "        inp_size, [dataset_mean], [dataset_std]\n",
        "    ),\n",
        "    batch_size=32,\n",
        "    load_from_disk=False,\n",
        "    cuda=is_cuda,\n",
        ")"
      ],
      "execution_count": null,
      "outputs": []
    },
    {
      "cell_type": "markdown",
      "metadata": {
        "id": "oYMrCqMgvgjd"
      },
      "source": [
        "The following training cell will take roughly 20 minutes or slightly more using CPU (but possibly under 5 minute using GPU depending on the batch size; the TAs got it within 3 minutes on a GTX1060)."
      ]
    },
    {
      "cell_type": "code",
      "metadata": {
        "id": "CAcncwLPBpIQ",
        "colab": {
          "base_uri": "https://localhost:8080/"
        },
        "outputId": "8bfc9b4b-4769-43ea-f02d-72685b9a93cd"
      },
      "source": [
        "%%time\n",
        "trainer.run_training_loop(num_epochs=5)"
      ],
      "execution_count": null,
      "outputs": [
        {
          "output_type": "stream",
          "name": "stdout",
          "text": [
            "Epoch:1 Train Loss:0.0240 Val Loss: 0.0168 Train Accuracy: 0.7762 Validation Accuracy: 0.8213\n",
            "Epoch:2 Train Loss:0.0137 Val Loss: 0.0129 Train Accuracy: 0.8536 Validation Accuracy: 0.8647\n",
            "Epoch:3 Train Loss:0.0119 Val Loss: 0.0111 Train Accuracy: 0.8824 Validation Accuracy: 0.8813\n",
            "Epoch:4 Train Loss:0.0114 Val Loss: 0.0124 Train Accuracy: 0.8774 Validation Accuracy: 0.8580\n",
            "Epoch:5 Train Loss:0.0107 Val Loss: 0.0109 Train Accuracy: 0.8831 Validation Accuracy: 0.8840\n",
            "CPU times: user 45.9 s, sys: 2.76 s, total: 48.6 s\n",
            "Wall time: 1min 14s\n"
          ]
        }
      ]
    },
    {
      "cell_type": "markdown",
      "metadata": {
        "id": "biGF45_bvgje"
      },
      "source": [
        "Like both previous sections, you are required to pass a threshold of **85%** for this part. Copy the plots and values onto the report and answer questions accordingly."
      ]
    },
    {
      "cell_type": "code",
      "metadata": {
        "id": "Cimj95G_BpIU",
        "colab": {
          "base_uri": "https://localhost:8080/",
          "height": 573
        },
        "outputId": "71dcb335-d182-4373-8bf1-c2976dfcbf9b"
      },
      "source": [
        "trainer.plot_loss_history()\n",
        "trainer.plot_accuracy()"
      ],
      "execution_count": null,
      "outputs": [
        {
          "output_type": "display_data",
          "data": {
            "image/png": "[encoded data removed]",
            "text/plain": [
              "<Figure size 432x288 with 1 Axes>"
            ]
          },
          "metadata": {
            "needs_background": "light"
          }
        },
        {
          "output_type": "display_data",
          "data": {
            "image/png": "[encoded data removed]",
            "text/plain": [
              "<Figure size 432x288 with 1 Axes>"
            ]
          },
          "metadata": {
            "needs_background": "light"
          }
        }
      ]
    },
    {
      "cell_type": "code",
      "metadata": {
        "id": "qMI3CdEuBpIb",
        "colab": {
          "base_uri": "https://localhost:8080/"
        },
        "outputId": "353b606f-574d-44c0-abb8-369d2583d635"
      },
      "source": [
        "train_accuracy = trainer.train_accuracy_history[-1]\n",
        "validation_accuracy = trainer.validation_accuracy_history[-1]\n",
        "print(\n",
        "    \"Train Accuracy = {}; Validation Accuracy = {}\".format(\n",
        "        train_accuracy, validation_accuracy\n",
        "    )\n",
        ")"
      ],
      "execution_count": null,
      "outputs": [
        {
          "output_type": "stream",
          "name": "stdout",
          "text": [
            "Train Accuracy = 0.8830820770519263; Validation Accuracy = 0.884\n"
          ]
        }
      ]
    },
    {
      "cell_type": "markdown",
      "metadata": {
        "id": "T_9mBr4fhb-b"
      },
      "source": [
        "**TODO 16**: Obtain a **85%** validation accuracy to receive full credits for Part 3."
      ]
    },
    {
      "cell_type": "markdown",
      "metadata": {
        "id": "lwmEfkaohb-b"
      },
      "source": [
        "### Save Trained MyResnet18 model"
      ]
    },
    {
      "cell_type": "code",
      "metadata": {
        "id": "JttK_45Yhb-b"
      },
      "source": [
        "save_trained_model_weights(my_resnet, out_dir=\"./\")"
      ],
      "execution_count": null,
      "outputs": []
    },
    {
      "cell_type": "markdown",
      "metadata": {
        "id": "eXwDzD5ghb-c"
      },
      "source": [
        "### Part 2.3 Visualize and Analyze Confusion Matrix"
      ]
    },
    {
      "cell_type": "markdown",
      "metadata": {
        "id": "876eAnZZhb-c"
      },
      "source": [
        "**TODO 17:** Visualize and analyze the confusion matrix.\n",
        "\n",
        "You'll need to find an example of an image that is misclassified for the report. Use the confusion matrix and the `get_pred_images_for_target` function to help your analysis"
      ]
    },
    {
      "cell_type": "code",
      "metadata": {
        "id": "WpoROFbqhb-c",
        "colab": {
          "base_uri": "https://localhost:8080/",
          "height": 612
        },
        "outputId": "4aecc3c0-2445-4d97-8337-bff7e50a4109"
      },
      "source": [
        "generate_and_plot_confusion_matrix(my_resnet, trainer.val_dataset, use_cuda=is_cuda)"
      ],
      "execution_count": null,
      "outputs": [
        {
          "output_type": "display_data",
          "data": {
            "image/png": "[encoded data removed]",
            "text/plain": [
              "<Figure size 720x720 with 1 Axes>"
            ]
          },
          "metadata": {
            "needs_background": "light"
          }
        }
      ]
    },
    {
      "cell_type": "code",
      "metadata": {
        "id": "Vimh9O8fhb-d"
      },
      "source": [
        "#########################\n",
        "# Use this cell to visualize your images depending on the confusion matrix visualization\n",
        "#########################"
      ],
      "execution_count": null,
      "outputs": []
    }
  ]
}